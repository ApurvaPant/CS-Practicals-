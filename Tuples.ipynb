{
 "cells": [
  {
   "cell_type": "code",
   "execution_count": 3,
   "id": "544610ff",
   "metadata": {},
   "outputs": [
    {
     "name": "stdout",
     "output_type": "stream",
     "text": [
      "Enter your text here:\n",
      "Enter your text here:Hello\n",
      "('H', 'e', 'l', 'l', 'o')\n"
     ]
    }
   ],
   "source": [
    "# Write a program to read a tuple from the user using loop\n",
    "\n",
    "n = tuple(input(\"Enter your text here:\"))\n",
    "while len(n) == 0:\n",
    "    n = tuple(input(\"Enter your text here:\"))\n",
    "print(n)"
   ]
  },
  {
   "cell_type": "code",
   "execution_count": 1,
   "id": "177f8e1a",
   "metadata": {},
   "outputs": [
    {
     "name": "stdout",
     "output_type": "stream",
     "text": [
      "Enter how many elements you want to add:4\n",
      "Enter numbers:1\n",
      "Enter numbers:2\n",
      "Enter numbers:3\n",
      "Enter numbers:4\n",
      "The tuple created is: (1, 2, 3, 4)\n",
      "The mean of the given numbers is: 2.5\n"
     ]
    }
   ],
   "source": [
    "# . Read a tuple from user and find the mean of\n",
    "\n",
    "lst = []\n",
    "n = int(input(\"Enter how many elements you want to add:\"))\n",
    "for i in range(n):\n",
    "        num = int(input(\"Enter numbers:\"))\n",
    "        lst.append(num)\n",
    "tup = tuple(lst)\n",
    "print(\"The tuple created is:\",tup)\n",
    "sum = 0\n",
    "for i in range(n):\n",
    "    sum = sum + tup[i]\n",
    "mean = (sum/n)\n",
    "print(\"The mean of the given numbers is:\",mean)    "
   ]
  },
  {
   "cell_type": "code",
   "execution_count": 3,
   "id": "d18e8c6e",
   "metadata": {},
   "outputs": [
    {
     "name": "stdout",
     "output_type": "stream",
     "text": [
      "Enter numbers:1,2,3,4,5\n",
      "The reverse is: (5, 4, 3, 2, 1)\n"
     ]
    },
    {
     "ename": "AttributeError",
     "evalue": "'tuple' object has no attribute 'reverse'",
     "output_type": "error",
     "traceback": [
      "\u001b[1;31m---------------------------------------------------------------------------\u001b[0m",
      "\u001b[1;31mAttributeError\u001b[0m                            Traceback (most recent call last)",
      "\u001b[1;32m~\\AppData\\Local\\Temp/ipykernel_13904/4238324516.py\u001b[0m in \u001b[0;36m<module>\u001b[1;34m\u001b[0m\n\u001b[0;32m      3\u001b[0m \u001b[0mtup\u001b[0m \u001b[1;33m=\u001b[0m \u001b[0meval\u001b[0m\u001b[1;33m(\u001b[0m\u001b[0minput\u001b[0m\u001b[1;33m(\u001b[0m\u001b[1;34m\"Enter numbers:\"\u001b[0m\u001b[1;33m)\u001b[0m\u001b[1;33m)\u001b[0m\u001b[1;33m\u001b[0m\u001b[1;33m\u001b[0m\u001b[0m\n\u001b[0;32m      4\u001b[0m \u001b[0mprint\u001b[0m\u001b[1;33m(\u001b[0m\u001b[1;34m\"The reverse is:\"\u001b[0m\u001b[1;33m,\u001b[0m\u001b[0mtup\u001b[0m\u001b[1;33m[\u001b[0m\u001b[1;33m:\u001b[0m\u001b[1;33m:\u001b[0m\u001b[1;33m-\u001b[0m\u001b[1;36m1\u001b[0m\u001b[1;33m]\u001b[0m\u001b[1;33m)\u001b[0m\u001b[1;33m\u001b[0m\u001b[1;33m\u001b[0m\u001b[0m\n\u001b[1;32m----> 5\u001b[1;33m \u001b[0mtup\u001b[0m\u001b[1;33m.\u001b[0m\u001b[0mreverse\u001b[0m\u001b[1;33m(\u001b[0m\u001b[1;33m)\u001b[0m\u001b[1;33m\u001b[0m\u001b[1;33m\u001b[0m\u001b[0m\n\u001b[0m\u001b[0;32m      6\u001b[0m \u001b[0mprint\u001b[0m\u001b[1;33m(\u001b[0m\u001b[0mtup\u001b[0m\u001b[1;33m)\u001b[0m\u001b[1;33m\u001b[0m\u001b[1;33m\u001b[0m\u001b[0m\n",
      "\u001b[1;31mAttributeError\u001b[0m: 'tuple' object has no attribute 'reverse'"
     ]
    }
   ],
   "source": [
    "# Read a tuple from the user and print its reverse .\n",
    "\n",
    "tup = eval(input(\"Enter numbers:\"))\n",
    "print(\"The reverse is:\",tup[::-1])\n"
   ]
  },
  {
   "cell_type": "code",
   "execution_count": 18,
   "id": "6f7332bc",
   "metadata": {},
   "outputs": [
    {
     "name": "stdout",
     "output_type": "stream",
     "text": [
      "Enter how many elements you want to add:4\n",
      "Enter numbers:1\n",
      "Enter numbers:2\n",
      "Enter numbers:3\n",
      "Enter numbers:4\n",
      "The tuple created is: (1, 2, 3, 4)\n",
      "Enter number you want to add at last:5\n",
      "The tuple after modification is: (1, 2, 3, 4, 5)\n"
     ]
    }
   ],
   "source": [
    "# Read a tuple from the user and add an element at the end of it using list\n",
    "\n",
    "lst = []\n",
    "n = int(input(\"Enter how many elements you want to add:\"))\n",
    "for i in range(n):\n",
    "    num = int(input(\"Enter numbers:\"))\n",
    "    lst.append(num)\n",
    "print(\"The tuple created is:\",tuple(lst))\n",
    "element = int(input(\"Enter number you want to add at last:\"))\n",
    "lst += [element]\n",
    "print(\"The tuple after modification is:\",tuple(lst))\n",
    "\n",
    "# or\n",
    "# book method\n",
    "t=eval(input(\"Enter a tuple of numbers\"))\n",
    "l=list(t)\n",
    "a=int(input(\"Enter the number to add at the end:\"))\n",
    "l.append(a)\n",
    "t=tuple(l)\n",
    "print(t)"
   ]
  },
  {
   "cell_type": "code",
   "execution_count": 23,
   "id": "d2e1996d",
   "metadata": {},
   "outputs": [
    {
     "name": "stdout",
     "output_type": "stream",
     "text": [
      "Enter a tuple of numbers1,2,3,4,5\n",
      "(3, 4, 9, 8, 15)\n"
     ]
    }
   ],
   "source": [
    "# Read a tuple from the user and modify it so that all the even numbers get multiplied by 2 and all odd numbers get multiplied\n",
    "# by 3\n",
    "\n",
    "lst = []\n",
    "n = int(input(\"Enter how many elements you want to add:\"))\n",
    "for i in range(n):\n",
    "    num = int(input(\"Enter numbers:\"))\n",
    "    lst.append(num)\n",
    "print(\"The tuple created is:\",tuple(lst))\n",
    "for i in range(n):\n",
    "    if lst[i]%2 == 0:\n",
    "        lst[i] = lst[i] * 2\n",
    "    else:\n",
    "        lst[i] = lst[i] * 3\n",
    "print(\"The tuple after modifications is\",tuple(lst))\n",
    "\n",
    "# or\n",
    "# book method\n",
    "# t=eval(input(\"Enter a tuple of numbers\"))\n",
    "# l=list(t)\n",
    "# for i in range(len(l)):\n",
    "#     if l[i]%2==0:\n",
    "#         l[i]=l[i]*2\n",
    "#     else:\n",
    "#         l[i]=l[i]*3\n",
    "# t=tuple(l)\n",
    "# print(t)"
   ]
  },
  {
   "cell_type": "code",
   "execution_count": 1,
   "id": "1f0ed7ff",
   "metadata": {},
   "outputs": [
    {
     "name": "stdout",
     "output_type": "stream",
     "text": [
      "Enter numbers:1,2,3,4,5,6,7,8,9,10\n",
      "1 is not divisibly by 5\n",
      "2 is not divisibly by 5\n",
      "3 is not divisibly by 5\n",
      "4 is not divisibly by 5\n",
      "5 is divisble by 5\n",
      "6 is not divisibly by 5\n",
      "7 is not divisibly by 5\n",
      "8 is not divisibly by 5\n",
      "9 is not divisibly by 5\n",
      "10 is divisble by 5\n"
     ]
    }
   ],
   "source": [
    "# To read tuple and check if it's elements are divisble by 5 or not:\n",
    "\n",
    "tup = eval(input(\"Enter numbers:\"))\n",
    "for i in range(len(tup)):\n",
    "    if tup[i] % 5 == 0:\n",
    "        print(tup[i],\"is divisble by 5\")\n",
    "    else:\n",
    "        print(tup[i],\"is not divisibly by 5\")"
   ]
  },
  {
   "cell_type": "code",
   "execution_count": 2,
   "id": "ddde20f1",
   "metadata": {},
   "outputs": [
    {
     "name": "stdout",
     "output_type": "stream",
     "text": [
      "Enter numbers:1,2,3,4,5\n",
      "The sum of the tuple is: 15\n"
     ]
    }
   ],
   "source": [
    "# To find sum of tuple:\n",
    "\n",
    "tup = eval(input(\"Enter numbers:\"))\n",
    "sum = 0\n",
    "for i in range(len(tup)):\n",
    "    sum = sum + tup[i]\n",
    "print(\"The sum of the tuple is:\",sum)"
   ]
  },
  {
   "cell_type": "code",
   "execution_count": 7,
   "id": "b4a115ec",
   "metadata": {},
   "outputs": [
    {
     "name": "stdout",
     "output_type": "stream",
     "text": [
      "Enter how many students data you want to enter:2\n",
      "Enter roll number:1\n",
      "Enter name of the student:Abhinav\n",
      "Enter marks of the student:2\n",
      "Enter roll number:2\n",
      "Enter name of the student:Apurva\n",
      "Enter marks of the student:2\n",
      "The tuple created is: ((1, 'Abhinav', 2), (2, 'Apurva', 2))\n"
     ]
    }
   ],
   "source": [
    "# Q.9.Write a program to create a nested tuple to store the rollno, name and marks of students and display them.\n",
    "\n",
    "tup = ()\n",
    "n = int(input(\"Enter how many students data you want to enter:\"))\n",
    "for i in range(n):\n",
    "    roll = int(input(\"Enter roll number:\"))\n",
    "    name = input(\"Enter name of the student:\")\n",
    "    marks = int(input(\"Enter marks of the student:\"))\n",
    "    tup += ((roll,name,marks),)\n",
    "print(\"The tuple created is:\",tup)"
   ]
  },
  {
   "cell_type": "code",
   "execution_count": null,
   "id": "84fb0394",
   "metadata": {},
   "outputs": [],
   "source": [
    "# WAP in python to input a tuple of numbers from the user and display the Second Highest element present in the tuple.\n",
    "\n",
    "lst = []\n",
    "n = int(input(\"Enter how many elements you want to add:\"))\n",
    "for i in range(n):\n",
    "    values = int(input(\"Enter values:\"))\n",
    "    lst.append(values)\n",
    "tup = tuple(lst)\n",
    "print(\"The tuple created is:\",tup)\n",
    "h = 0\n",
    "for i in range:\n",
    "    if lst[i] > lar:\n",
    "        k"
   ]
  },
  {
   "cell_type": "code",
   "execution_count": 9,
   "id": "421ac13c",
   "metadata": {},
   "outputs": [
    {
     "name": "stdout",
     "output_type": "stream",
     "text": [
      "Enter numbers:1,2,3,4,5\n",
      "The tuple created is: (1, 2, 3, 4, 5)\n",
      "The second highest element present in tuple is: 4\n"
     ]
    }
   ],
   "source": [
    "tup = eval(input(\"Enter numbers:\"))\n",
    "print(\"The tuple created is:\",tup)\n",
    "sorted(tup)\n",
    "sh = tup[len(tup)-2]\n",
    "print(\"The second highest element present in tuple is:\",sh)"
   ]
  },
  {
   "cell_type": "code",
   "execution_count": 3,
   "id": "fd0c3f11",
   "metadata": {},
   "outputs": [
    {
     "name": "stdout",
     "output_type": "stream",
     "text": [
      "Enter elements of the tuple:hello,hi\n",
      "The tuple created is: hello,hi\n",
      "h\n",
      "e\n",
      "l\n",
      "l\n",
      "o\n",
      ",\n",
      "h\n",
      "i\n"
     ]
    }
   ],
   "source": [
    "\"\"\"Write a program to accept a string tuple and print all those strings\n",
    "which are palindrome in it. eg: if the accepted tuple is\n",
    "(‘hello’,’level’,’good’,’morning’,’malayalam’) output should be\n",
    "level\n",
    "Malayalam\"\"\"\n",
    "\n",
    "lst = []\n",
    "n"
   ]
  },
  {
   "cell_type": "code",
   "execution_count": 4,
   "id": "536c7c6e",
   "metadata": {},
   "outputs": [
    {
     "name": "stdout",
     "output_type": "stream",
     "text": [
      "1,2,3,4,5\n",
      "5\n"
     ]
    }
   ],
   "source": [
    "tup = eval(input())\n",
    "h = 0\n",
    "for i in range(len(tup)):\n",
    "    if tup[i] > h:\n",
    "        h = tup[i]\n",
    "print(h)"
   ]
  },
  {
   "cell_type": "code",
   "execution_count": null,
   "id": "8ef2ada3",
   "metadata": {},
   "outputs": [],
   "source": []
  }
 ],
 "metadata": {
  "kernelspec": {
   "display_name": "Python 3 (ipykernel)",
   "language": "python",
   "name": "python3"
  },
  "language_info": {
   "codemirror_mode": {
    "name": "ipython",
    "version": 3
   },
   "file_extension": ".py",
   "mimetype": "text/x-python",
   "name": "python",
   "nbconvert_exporter": "python",
   "pygments_lexer": "ipython3",
   "version": "3.9.6"
  }
 },
 "nbformat": 4,
 "nbformat_minor": 5
}
