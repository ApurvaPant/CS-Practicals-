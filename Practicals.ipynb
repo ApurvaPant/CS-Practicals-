{
 "cells": [
  {
   "cell_type": "code",
   "execution_count": 1,
   "id": "92d5b56d",
   "metadata": {
    "scrolled": true
   },
   "outputs": [
    {
     "name": "stdout",
     "output_type": "stream",
     "text": [
      "Enter your welcome messageHello world\n",
      "Hello world\n"
     ]
    }
   ],
   "source": [
    "# to input a welcome message and print it\n",
    "\n",
    "msg = input(\"Enter your welcome message\")\n",
    "print(msg)"
   ]
  },
  {
   "cell_type": "code",
   "execution_count": 3,
   "id": "4c333872",
   "metadata": {},
   "outputs": [
    {
     "name": "stdout",
     "output_type": "stream",
     "text": [
      "Enter first number5\n",
      "Enter seccond number7\n",
      "7 is the bigger number and 5 is the smaller number\n"
     ]
    }
   ],
   "source": [
    "# to find larger and smaller number among two numbers\n",
    "\n",
    "a = int(input(\"Enter first number\"))\n",
    "b = int(input(\"Enter seccond number\"))\n",
    "if a>b:\n",
    "    print(a,\"is the bigger number and\", b, \"is the smaller number\")\n",
    "else:\n",
    "    print(b,\"is the bigger number and\", a, \"is the smaller number\")\n",
    "    "
   ]
  },
  {
   "cell_type": "code",
   "execution_count": 8,
   "id": "fe4e8376",
   "metadata": {},
   "outputs": [
    {
     "name": "stdout",
     "output_type": "stream",
     "text": [
      "Enter first number5\n",
      "Enter second number7\n",
      "Enter third number3\n",
      "7 is bigger number and b and c are smaller numbers\n"
     ]
    }
   ],
   "source": [
    "# to find larger and smaller number among three numbers\n",
    "\n",
    "a = int(input(\"Enter first number\"))\n",
    "b = int(input(\"Enter second number\"))\n",
    "c = int(input(\"Enter third number\"))\n",
    "if a>b and a>c:\n",
    "    print(a, \"is bigger number and b and c are smaller numbers\")\n",
    "elif b>a and b>c:\n",
    "    print(b, \"is bigger number and b and c are smaller numbers\")\n",
    "else:\n",
    "    print(c, \"is bigger number and a and b are smaller number\")"
   ]
  },
  {
   "cell_type": "code",
   "execution_count": 9,
   "id": "3fbf9719",
   "metadata": {},
   "outputs": [
    {
     "name": "stdout",
     "output_type": "stream",
     "text": [
      "Enter base6\n",
      "Enter the power of the number7\n",
      "The computed output is 279936\n"
     ]
    }
   ],
   "source": [
    "# to computer x**n\n",
    "\n",
    "x = int(input(\"Enter base\"))\n",
    "n = int(input(\"Enter the power of the number\"))\n",
    "print(\"The computed output is\", x**n)"
   ]
  },
  {
   "cell_type": "code",
   "execution_count": 12,
   "id": "eff3dc0f",
   "metadata": {},
   "outputs": [
    {
     "name": "stdout",
     "output_type": "stream",
     "text": [
      "* \n",
      "* * \n",
      "* * * \n",
      "* * * * \n",
      "* * * * * \n"
     ]
    }
   ],
   "source": [
    "# to generate the following pattern using nested loop:\n",
    "\n",
    "st = \"*\"\n",
    "for i in range(1,6):\n",
    "    for j in range(1, i+1):\n",
    "        print(st, end=\" \")\n",
    "    print()"
   ]
  },
  {
   "cell_type": "code",
   "execution_count": 1,
   "id": "f7f9f7a3",
   "metadata": {},
   "outputs": [
    {
     "name": "stdout",
     "output_type": "stream",
     "text": [
      "A \n",
      "A B \n",
      "A B C \n",
      "A B C D \n",
      "A B C D E \n"
     ]
    }
   ],
   "source": [
    "# to generate A AB ABC ABCD ABCDE\n",
    "\n",
    "for i in range(1,6):\n",
    "    ch = 65\n",
    "    for j in range(1, i+1):\n",
    "        print(chr(ch), end=\" \")\n",
    "        ch = ch + 1\n",
    "    print()"
   ]
  },
  {
   "cell_type": "code",
   "execution_count": 6,
   "id": "f7752c14",
   "metadata": {},
   "outputs": [
    {
     "name": "stdout",
     "output_type": "stream",
     "text": [
      "1 2 3 4 5 \n",
      "1 2 3 4 \n",
      "1 2 3 \n",
      "1 2 \n",
      "1 \n"
     ]
    }
   ],
   "source": [
    "# to generarte 12345 1234 123 12 1\n",
    "\n",
    "for i in range(5,0,-1):\n",
    "    for j in range (1,i+1):\n",
    "        print(j, end=\" \")\n",
    "    print()"
   ]
  },
  {
   "cell_type": "code",
   "execution_count": null,
   "id": "a50669a4",
   "metadata": {},
   "outputs": [],
   "source": [
    "# program to input the value of x and n and print the sum of the following series:\n",
    "\n",
    "x1/1 + x2/2 "
   ]
  },
  {
   "cell_type": "code",
   "execution_count": 11,
   "id": "0b0ee768",
   "metadata": {},
   "outputs": [
    {
     "name": "stdout",
     "output_type": "stream",
     "text": [
      "@ \n",
      "@ @ \n",
      "@ @ @ \n",
      "@ @ @ @ \n",
      "@ @ @ @ @ \n"
     ]
    }
   ],
   "source": [
    "for i in range(1,6):\n",
    "    st = \"@\"\n",
    "    for j in range(1,i+1):\n",
    "        print(st, end=\" \")\n",
    "    print()"
   ]
  },
  {
   "cell_type": "code",
   "execution_count": null,
   "id": "7ac43bef",
   "metadata": {},
   "outputs": [],
   "source": [
    "# to check whether the number is palindrome or not:\n",
    "\n",
    "n = int(input(\"Enter num:\"))\n",
    "num = 0\n",
    "while n>0:\n",
    "    rem = n%10\n",
    "    num = (num * 10) + rem \n",
    "    n = n//10\n",
    "print(num)\n",
    "if num == n:\n",
    "    print(\"Palindrome\")\n",
    "else:\n",
    "    print(\"Not Palindrome\")"
   ]
  },
  {
   "cell_type": "code",
   "execution_count": null,
   "id": "fe4e1e5a",
   "metadata": {},
   "outputs": [],
   "source": [
    "# to check armstrong number:\n",
    "\n",
    "num = int(input(\"Enter a number\"))\n",
    "sum = 0\n",
    "temp = num\n",
    "while temp>0:\n",
    "    digit = temp % 10\n",
    "    sum += digit**3\n",
    "    temp //= 10\n",
    "if (num == sum):\n",
    "    print(num, \"Is an armstrong number\")\n",
    "else:\n",
    "    print(num, \"is not armstrong number\")"
   ]
  },
  {
   "cell_type": "code",
   "execution_count": null,
   "id": "d21ab991",
   "metadata": {},
   "outputs": [],
   "source": [
    "# to check armstrong:\n",
    "num = int(input(\"Enter a number:\"))\n",
    "sum = 0\n",
    "temp = num\n",
    "while temp > 0:\n",
    "    digit = temp % 10\n",
    "    sum += digit ** 3\n",
    "    temp //= 10\n",
    "if num == sum:\n",
    "    print(num, \"is an armstrong number\")\n",
    "else:\n",
    "    print(num, \"is not an armstrong number\")"
   ]
  },
  {
   "cell_type": "code",
   "execution_count": null,
   "id": "00750ca3",
   "metadata": {},
   "outputs": [],
   "source": [
    "# to check whether the number is palindrome or not:\n",
    "\n",
    "n = int(input(\"Enter num:\"))\n",
    "num = 0\n",
    "while n>0:\n",
    "    rem = n%10\n",
    "    num = (num * 10) + rem \n",
    "    n = n//10\n",
    "print(num)\n",
    "if num == n:\n",
    "    print(\"Palindrome\")\n",
    "else:\n",
    "    print(\"Not Palindrome\")"
   ]
  },
  {
   "cell_type": "code",
   "execution_count": null,
   "id": "d338c4d8",
   "metadata": {},
   "outputs": [],
   "source": [
    "# to check for a armstrong number:\n",
    "\n",
    "n = int(input(\"Enter a number\"))\n",
    "sum = 0\n",
    "for i in range(1, n):\n",
    "    if( n % i == 0):\n",
    "        sum = sum + i\n",
    "if (sum == n):\n",
    "    print(\"The number is perfect number\")\n",
    "else:\n",
    "    print(\"The number is not perfect number\")"
   ]
  },
  {
   "cell_type": "code",
   "execution_count": null,
   "id": "b985eacb",
   "metadata": {},
   "outputs": [],
   "source": [
    "st = input(\"Enter any words you want:\")\n",
    "v,c,j,d,a,e,i,o,u = 0,0,0,0,0,0,0,0,0\n",
    "for s in st:\n",
    "    if s.isalpha():\n",
    "        if (s==\"a\" or s==\"A\"):\n",
    "            a = a + 1\n",
    "        elif (s==\"e\" or s==\"E\"):\n",
    "            e = e + 1\n",
    "        elif (s==\"i\" or s==\"I\"):\n",
    "            i = i + 1\n",
    "        elif (s==\"o\" or s==\"O\"):\n",
    "            o = o + 1\n",
    "        elif (s==\"u\" or s==\"U\"):\n",
    "            u = u + 1\n",
    "        else: \n",
    "            c = c + 1\n",
    "    if s.isdigit():\n",
    "        d = d + 1\n",
    "    if s==\" \":\n",
    "        j = j + 1\n",
    "v = a + e + i + o + u\n",
    "print(\"Vowels=\", v, \"\\nA =\", a, \"\\nE =\", e, \"\\nI =\", i, \"\\nO =\", o, \"\\nU =\", u, \"\\nConsonants =\", c, \"\\nDigits =\", d, \"\\nSpace =\", j)   \n",
    "    "
   ]
  },
  {
   "cell_type": "code",
   "execution_count": null,
   "id": "adcf70da",
   "metadata": {},
   "outputs": [],
   "source": [
    "# to print n fibonacci series\n",
    "\n",
    "\n",
    "n = int(input(\"Enter how many terms do you want to print:\"))\n",
    "a = 0\n",
    "b = 1\n",
    "print(a)\n",
    "print(b)\n",
    "for i in range (1, n-1):\n",
    "    c = a + b\n",
    "    print(c)\n",
    "    a = b\n",
    "    b = c"
   ]
  },
  {
   "cell_type": "code",
   "execution_count": 33,
   "id": "caa183f9",
   "metadata": {},
   "outputs": [
    {
     "name": "stdout",
     "output_type": "stream",
     "text": [
      "Enter any sentence/word you want:hrlloe\n",
      "Alphabets= 6 \n",
      "Uppecase= 0 \n",
      "Lowercase= 6 \n",
      "Digits= 0 \n",
      "Space= 0\n"
     ]
    }
   ],
   "source": [
    "st = input(\"Enter any sentence/word you want:\")\n",
    "u,l,al,d,s = 0,0,0,0,0\n",
    "for i in st:\n",
    "    if i.isalpha():\n",
    "        if i.isupper():\n",
    "            u = u + 1\n",
    "        elif i.islower():\n",
    "            l = l + 1\n",
    "    elif i.isdigit():\n",
    "        d = d + 1\n",
    "    else:\n",
    "        s = s + 1\n",
    "al = l + u\n",
    "print(\"Alphabets=\", al, \"\\nUppecase=\", u, \"\\nLowercase=\", l, \"\\nDigits=\", d, \"\\nSpace=\", s)"
   ]
  },
  {
   "cell_type": "code",
   "execution_count": null,
   "id": "db75aa7f",
   "metadata": {},
   "outputs": [],
   "source": [
    "# to check for perfect number\n",
    "\n",
    "n = int(input(\"Enter any number\"))\n",
    "sum = 0 \n",
    "for i in range (1,n):\n",
    "    if(n % i == 0):\n",
    "        sum = sum + i\n",
    "if (sum == n):\n",
    "     print(\"The number is perfect number\")\n",
    "else:\n",
    "    print(\"The number is not perfect number\")"
   ]
  },
  {
   "cell_type": "code",
   "execution_count": null,
   "id": "9f1247ce",
   "metadata": {},
   "outputs": [],
   "source": []
  }
 ],
 "metadata": {
  "kernelspec": {
   "display_name": "Python 3 (ipykernel)",
   "language": "python",
   "name": "python3"
  },
  "language_info": {
   "codemirror_mode": {
    "name": "ipython",
    "version": 3
   },
   "file_extension": ".py",
   "mimetype": "text/x-python",
   "name": "python",
   "nbconvert_exporter": "python",
   "pygments_lexer": "ipython3",
   "version": "3.9.6"
  }
 },
 "nbformat": 4,
 "nbformat_minor": 5
}
