{
 "cells": [
  {
   "cell_type": "code",
   "execution_count": 2,
   "id": "660cf60b",
   "metadata": {},
   "outputs": [
    {
     "name": "stdout",
     "output_type": "stream",
     "text": [
      "{1: 'Amit', 2: 'Sumit', 3: 'Naina'}\n"
     ]
    }
   ],
   "source": [
    "# Write a program to write the following dictionary in a binary file.\n",
    "#  d = {1 : \"Amit\", 2 : \"Sumit\", 3 : \"Naina\"}\n",
    "\n",
    "def program1():\n",
    "    import pickle as p\n",
    "    f = open(\"practice1.dat\",\"wb+\")\n",
    "    d = {1 : \"Amit\", 2 : \"Sumit\", 3 : \"Naina\"}\n",
    "    p.dump(d,f)\n",
    "#   to print:\n",
    "    f.seek(0)\n",
    "    print(p.load(f))\n",
    "program1()"
   ]
  },
  {
   "cell_type": "code",
   "execution_count": null,
   "id": "5bb1ac04",
   "metadata": {},
   "outputs": [],
   "source": [
    "'''\n",
    "Write a function empadd() which will add a record of employee in a\n",
    "binary file “data.dat” using list. Data to be add include employee\n",
    "name, employee number. Also write a function empread() which will\n",
    "read all the records from the file.\n",
    "'''\n",
    "\n"
   ]
  },
  {
   "cell_type": "code",
   "execution_count": 1,
   "id": "9075c96f",
   "metadata": {},
   "outputs": [
    {
     "name": "stdout",
     "output_type": "stream",
     "text": [
      "Enter no of data you want to add (You can add more enteries later):2\n",
      "Enter name of the student:hfgjdhgs\n",
      "Enter roll no of: hfgjdhgs\n",
      "34\n",
      "Enter percentage of: hfgjdhgs\n",
      "343\n",
      "Enter hobby of: hfgjdhgs\n",
      "fgsdf\n",
      "Enter name of the student:dsgvsdg\n",
      "Enter roll no of: dsgvsdg\n",
      "45\n",
      "Enter percentage of: dsgvsdg\n",
      "243\n",
      "Enter hobby of: dsgvsdg\n",
      "fggsdfg\n",
      "Enter do you want to continue if you want to continue pls enter Y or y and enter any other keyword to stop:Y\n",
      "Enter name of the student:fdsgsdfgsdf\n",
      "Enter roll no of: fdsgsdfgsdf\n",
      "43534\n",
      "Enter percentage of: fdsgsdfgsdf\n",
      "sdgsdfgs\n"
     ]
    },
    {
     "ename": "ValueError",
     "evalue": "invalid literal for int() with base 10: 'sdgsdfgs'",
     "output_type": "error",
     "traceback": [
      "\u001b[1;31m---------------------------------------------------------------------------\u001b[0m",
      "\u001b[1;31mValueError\u001b[0m                                Traceback (most recent call last)",
      "Input \u001b[1;32mIn [1]\u001b[0m, in \u001b[0;36m<cell line: 30>\u001b[1;34m()\u001b[0m\n\u001b[0;32m     28\u001b[0m         \u001b[38;5;28mprint\u001b[39m(\u001b[38;5;124m\"\u001b[39m\u001b[38;5;124m________\u001b[39m\u001b[38;5;124m\"\u001b[39m)\n\u001b[0;32m     29\u001b[0m     f\u001b[38;5;241m.\u001b[39mclose()\n\u001b[1;32m---> 30\u001b[0m \u001b[43mregister\u001b[49m\u001b[43m(\u001b[49m\u001b[43m)\u001b[49m\n",
      "Input \u001b[1;32mIn [1]\u001b[0m, in \u001b[0;36mregister\u001b[1;34m()\u001b[0m\n\u001b[0;32m     17\u001b[0m ans \u001b[38;5;241m=\u001b[39m \u001b[38;5;28minput\u001b[39m(\u001b[38;5;124m\"\u001b[39m\u001b[38;5;124mEnter do you want to continue if you want to continue pls enter Y or y and enter any other keyword to stop:\u001b[39m\u001b[38;5;124m\"\u001b[39m)\n\u001b[0;32m     18\u001b[0m \u001b[38;5;28;01mwhile\u001b[39;00m ans\u001b[38;5;241m==\u001b[39m\u001b[38;5;124m\"\u001b[39m\u001b[38;5;124mY\u001b[39m\u001b[38;5;124m\"\u001b[39m\u001b[38;5;241m.\u001b[39mlower() \u001b[38;5;129;01mor\u001b[39;00m \u001b[38;5;124m\"\u001b[39m\u001b[38;5;124mY\u001b[39m\u001b[38;5;124m\"\u001b[39m:\n\u001b[1;32m---> 19\u001b[0m     \u001b[43mdata\u001b[49m\u001b[43m(\u001b[49m\u001b[43m)\u001b[49m\n\u001b[0;32m     20\u001b[0m     ans \u001b[38;5;241m=\u001b[39m \u001b[38;5;28minput\u001b[39m(\u001b[38;5;124m\"\u001b[39m\u001b[38;5;124mEnter do you want to continue if you want to continue pls enter Y or y and enter any other keyword to stop:\u001b[39m\u001b[38;5;124m\"\u001b[39m)\n\u001b[0;32m     21\u001b[0m p\u001b[38;5;241m.\u001b[39mdump(di,f)\n",
      "Input \u001b[1;32mIn [1]\u001b[0m, in \u001b[0;36mregister.<locals>.data\u001b[1;34m()\u001b[0m\n\u001b[0;32m      9\u001b[0m roll \u001b[38;5;241m=\u001b[39m \u001b[38;5;28mint\u001b[39m(\u001b[38;5;28minput\u001b[39m())\n\u001b[0;32m     10\u001b[0m \u001b[38;5;28mprint\u001b[39m(\u001b[38;5;124m\"\u001b[39m\u001b[38;5;124mEnter percentage of:\u001b[39m\u001b[38;5;124m\"\u001b[39m,name)\n\u001b[1;32m---> 11\u001b[0m percentage \u001b[38;5;241m=\u001b[39m \u001b[38;5;28;43mint\u001b[39;49m\u001b[43m(\u001b[49m\u001b[38;5;28;43minput\u001b[39;49m\u001b[43m(\u001b[49m\u001b[43m)\u001b[49m\u001b[43m)\u001b[49m\n\u001b[0;32m     12\u001b[0m \u001b[38;5;28mprint\u001b[39m(\u001b[38;5;124m\"\u001b[39m\u001b[38;5;124mEnter hobby of:\u001b[39m\u001b[38;5;124m\"\u001b[39m,name)\n\u001b[0;32m     13\u001b[0m hobby \u001b[38;5;241m=\u001b[39m \u001b[38;5;28minput\u001b[39m()\n",
      "\u001b[1;31mValueError\u001b[0m: invalid literal for int() with base 10: 'sdgsdfgs'"
     ]
    }
   ],
   "source": [
    "def register():\n",
    "    import pickle as p\n",
    "    di = {}\n",
    "    f = open(\"register1.dat\",\"wb+\")\n",
    "    no = int(input(\"Enter no of data you want to add (You can add more enteries later):\"))\n",
    "    def data():\n",
    "        name = input(\"Enter name of the student:\")\n",
    "        print(\"Enter roll no of:\",name)\n",
    "        roll = int(input())\n",
    "        print(\"Enter percentage of:\",name)\n",
    "        percentage = int(input())\n",
    "        print(\"Enter hobby of:\",name)\n",
    "        hobby = input()\n",
    "        di[name] = (roll,percentage,hobby)\n",
    "    for i in range(no):\n",
    "        data()\n",
    "    ans = input(\"Enter do you want to continue if you want to continue pls enter Y or y and enter any other keyword to stop:\")\n",
    "    while ans==\"Y\".lower() or \"Y\":\n",
    "        data()\n",
    "        ans = input(\"Enter do you want to continue if you want to continue pls enter Y or y and enter any other keyword to stop:\")\n",
    "    p.dump(di,f)\n",
    "    f.seek(0)\n",
    "    d = p.load(f)\n",
    "    for i in d:\n",
    "        print(\"________\")\n",
    "        print(\"Data of : \",i)\n",
    "        print(\"\\nName : \",i,\"\\nRoll no : \",d[i][0],\"\\nPercentage : \",d[i][1],\"\\nHobby : \",d[i][2])\n",
    "        print(\"________\")\n",
    "    f.close()\n",
    "register()"
   ]
  },
  {
   "cell_type": "code",
   "execution_count": null,
   "id": "25b9c1bd",
   "metadata": {},
   "outputs": [],
   "source": []
  }
 ],
 "metadata": {
  "kernelspec": {
   "display_name": "Python 3 (ipykernel)",
   "language": "python",
   "name": "python3"
  },
  "language_info": {
   "codemirror_mode": {
    "name": "ipython",
    "version": 3
   },
   "file_extension": ".py",
   "mimetype": "text/x-python",
   "name": "python",
   "nbconvert_exporter": "python",
   "pygments_lexer": "ipython3",
   "version": "3.9.12"
  }
 },
 "nbformat": 4,
 "nbformat_minor": 5
}
