{
 "cells": [
  {
   "cell_type": "code",
   "execution_count": 7,
   "id": "b72d002a",
   "metadata": {},
   "outputs": [
    {
     "name": "stdout",
     "output_type": "stream",
     "text": [
      "Enter number you want to check for fibonacci series:9\n",
      "9 is not present in fibonacci series\n"
     ]
    }
   ],
   "source": [
    "# To check if a number is in fibonacci series or not:\n",
    "\n",
    "def fibonacci(num):\n",
    "    a = 0\n",
    "    b = 1\n",
    "    l = [0,1]\n",
    "    for i in range(num+1):\n",
    "        c = a + b\n",
    "        a = b\n",
    "        b = c\n",
    "        l.append(c)\n",
    "    if num in l:\n",
    "         print(num,\"is present in fibonacci series\")\n",
    "    else:\n",
    "        print(num,\"is not present in fibonacci series\")\n",
    "n = int(input(\"Enter number you want to check for fibonacci series:\"))\n",
    "fibonacci(n)"
   ]
  },
  {
   "cell_type": "code",
   "execution_count": 1,
   "id": "6c8681ee",
   "metadata": {},
   "outputs": [
    {
     "name": "stdout",
     "output_type": "stream",
     "text": [
      "Enter number you want to check:5\n",
      "Number is palindrome\n"
     ]
    }
   ],
   "source": [
    "# To check if a number is palindrome or not:\n",
    "\n",
    "def palindrome(num):\n",
    "    num = str(num)\n",
    "    num_opposite = num[::-1]\n",
    "    if num == num_opposite:\n",
    "        print(\"Number is palindrome\")\n",
    "    else:\n",
    "        print(\"Number is not palindrome\")\n",
    "    num = int(num)\n",
    "n = int(input(\"Enter number you want to check:\"))\n",
    "palindrome(n)"
   ]
  },
  {
   "cell_type": "code",
   "execution_count": 6,
   "id": "bf352c0f",
   "metadata": {},
   "outputs": [
    {
     "name": "stdout",
     "output_type": "stream",
     "text": [
      "Enter num:789\n",
      "Number is not armstrong\n"
     ]
    }
   ],
   "source": [
    "# To check if a number is armstrong or not:\n",
    "\n",
    "def armstrong(n):\n",
    "    n = str(n)\n",
    "    l = []\n",
    "    p = len(n)\n",
    "    for i in n:\n",
    "        i = int(i)\n",
    "        s = i**p\n",
    "        l.append(s)\n",
    "    su = sum(l)\n",
    "    su = str(su)\n",
    "    if su == n:\n",
    "        print(\"Number is armstrong\")\n",
    "    else:\n",
    "        print(\"Number is not armstrong\")\n",
    "    n = int(n)\n",
    "num = int(input(\"Enter num:\"))\n",
    "armstrong(num)"
   ]
  },
  {
   "cell_type": "code",
   "execution_count": 6,
   "id": "cac1056a",
   "metadata": {},
   "outputs": [
    {
     "name": "stdout",
     "output_type": "stream",
     "text": [
      "Enter a number:9\n",
      "9 is prime number\n"
     ]
    }
   ],
   "source": [
    "# To check if a number is prime or not:\n",
    "\n",
    "def prime(n):\n",
    "    flag = True\n",
    "    for i in range(2,n):\n",
    "        if n%2 == 0:\n",
    "            flag = False\n",
    "        elif n%i == 0:\n",
    "            flag = False\n",
    "        else:\n",
    "            flag = True\n",
    "    if flag == False:\n",
    "        print(n,\"is not prime number\")\n",
    "    else:\n",
    "        print(n,\"is prime number\")\n",
    "num = int(input(\"Enter a number:\"))\n",
    "prime(num)"
   ]
  },
  {
   "cell_type": "code",
   "execution_count": 20,
   "id": "a8f0b255",
   "metadata": {},
   "outputs": [
    {
     "name": "stdout",
     "output_type": "stream",
     "text": [
      "Enter do you want to print details : yes\n",
      "['Name : Apurva Pant \\n', 'Class : 12 \\n']\n",
      "Name : Apurva Pant \n",
      "\n",
      "Name : Apurva Pant \n",
      "Class\n"
     ]
    }
   ],
   "source": [
    "# To create a text file with your family details and read the file:\n",
    "\n",
    "def exam1():\n",
    "    f = open(\"exam1.txt\",\"w+\")\n",
    "    f.write(\"Name : Apurva Pant \\nClass : 12 \\nRoll no : 4 \")\n",
    "    f.seek(0)\n",
    "    askf = input(\"Enter do you want to print details : \")\n",
    "    askf = askf.lower()\n",
    "    if askf == \"yes\":\n",
    "        st = f.readlines(25)\n",
    "        f.seek(0)\n",
    "        st1 = f.readline(25)\n",
    "        f.seek(0)\n",
    "        st2 = f.read(25)\n",
    "        print(st)\n",
    "        print(st1)\n",
    "        print(st2)\n",
    "    f.close()\n",
    "exam1()"
   ]
  },
  {
   "cell_type": "code",
   "execution_count": 25,
   "id": "f85a5412",
   "metadata": {},
   "outputs": [
    {
     "name": "stdout",
     "output_type": "stream",
     "text": [
      "1000\n",
      "1000\n",
      "None\n"
     ]
    }
   ],
   "source": [
    "def cube(n):\n",
    "    print(n*n*n)\n",
    "cube(10)\n",
    "print(cube(10))"
   ]
  },
  {
   "cell_type": "code",
   "execution_count": 27,
   "id": "36af45c6",
   "metadata": {},
   "outputs": [
    {
     "name": "stdout",
     "output_type": "stream",
     "text": [
      "None\n"
     ]
    }
   ],
   "source": [
    "def fun (n):\n",
    "    if (n > 100):\n",
    "        return n - 5\n",
    "        return fun (fun (n+11))\n",
    "print(fun (45))"
   ]
  },
  {
   "cell_type": "code",
   "execution_count": 32,
   "id": "b093e5b7",
   "metadata": {},
   "outputs": [
    {
     "name": "stdout",
     "output_type": "stream",
     "text": [
      "5\n",
      "The sum is: 15\n"
     ]
    }
   ],
   "source": [
    "def natural(n):\n",
    "    sum = 0\n",
    "    for i in range(n+1):\n",
    "        sum += i\n",
    "    return sum\n",
    "num = int(input())\n",
    "print(\"The sum is:\",natural(num))\n",
    "    "
   ]
  },
  {
   "cell_type": "code",
   "execution_count": null,
   "id": "092898a3",
   "metadata": {},
   "outputs": [],
   "source": []
  },
  {
   "cell_type": "code",
   "execution_count": null,
   "id": "d080ae43",
   "metadata": {},
   "outputs": [],
   "source": []
  }
 ],
 "metadata": {
  "kernelspec": {
   "display_name": "Python 3 (ipykernel)",
   "language": "python",
   "name": "python3"
  },
  "language_info": {
   "codemirror_mode": {
    "name": "ipython",
    "version": 3
   },
   "file_extension": ".py",
   "mimetype": "text/x-python",
   "name": "python",
   "nbconvert_exporter": "python",
   "pygments_lexer": "ipython3",
   "version": "3.9.12"
  }
 },
 "nbformat": 4,
 "nbformat_minor": 5
}
