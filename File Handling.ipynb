{
 "cells": [
  {
   "cell_type": "code",
   "execution_count": 20,
   "id": "da0c1a44",
   "metadata": {},
   "outputs": [
    {
     "name": "stdout",
     "output_type": "stream",
     "text": [
      "Name : Apurva Pant \n",
      "Father Name : Nagendra Pant \n",
      "Mother name : Bimala Pant \n",
      "Brother name : Bimala Pant \n",
      "Number of members = 4\n"
     ]
    }
   ],
   "source": [
    "# To create a file with your family details and read the file:\n",
    "\n",
    "h1 = open('h1.txt','w+')\n",
    "h1.write(\"Name : Apurva Pant \\nFather Name : Nagendra Pant \\nMother name : Bimala Pant \\nBrother name : Bimala Pant \\nNumber of members = 4\")\n",
    "h1.seek(0)\n",
    "print(h1.read())\n",
    "h1.close()"
   ]
  },
  {
   "cell_type": "code",
   "execution_count": 27,
   "id": "0031e514",
   "metadata": {},
   "outputs": [
    {
     "name": "stdout",
     "output_type": "stream",
     "text": [
      "2\n"
     ]
    }
   ],
   "source": [
    "# To convert lower case into upper case and upper case into lower case:\n",
    "\n",
    "# h1 = open('h1.txt','r+')\n",
    "# s = h1.read()\n",
    "# m = ''\n",
    "# for i in s:\n",
    "#     if i.isalpha():\n",
    "#         if i.islower():\n",
    "#             m = m+i.upper()\n",
    "#         else:\n",
    "#             m = m+i.lower()\n",
    "#     else:\n",
    "#         pass\n",
    "# h1.seek(0)\n",
    "# h1.write(m)\n",
    "# h1.seek(0)\n",
    "# print(h1.read())\n",
    "# h1.close()\n",
    "\n",
    "f1 = open(\"h1.txt\",\"r\")\n",
    "n = 0\n",
    "for i in f1:\n",
    "    if (i[0] == \"F\" or i[0] == \"M\"):\n",
    "        n += 1\n",
    "    else:\n",
    "        pass\n",
    "print(n)"
   ]
  },
  {
   "cell_type": "code",
   "execution_count": null,
   "id": "73fd5867",
   "metadata": {},
   "outputs": [],
   "source": [
    "# To find number of vowels,spaces, digits and consonants in a text file using file handling:\n",
    "\n",
    "h1 = open('h1.txt','r')\n",
    "vowels,consonants,spaces,digits,special_characters = 0,0,0,0,0\n",
    "s = h1.read()\n",
    "for i in range(len(s)):\n",
    "    if i.isalpha():\n",
    "        if i.lower() in ('a','e','i','o','u'):\n",
    "            vowels += 1\n",
    "        else:\n",
    "            consonants += 1\n",
    "    elif i == ' ':\n",
    "        spaces += 1\n",
    "    elif i.isdigit():\n",
    "        digits += 1\n",
    "    else:\n",
    "        special_characters += 1\n",
    "h1.close()\n",
    "print(\"Number of vowels =\",vowels,\"\\nNumber of consonants =\",consonants)"
   ]
  },
  {
   "cell_type": "code",
   "execution_count": 30,
   "id": "a211926d",
   "metadata": {},
   "outputs": [
    {
     "name": "stdout",
     "output_type": "stream",
     "text": [
      "Name : Apurva Pant \n",
      "\n",
      "Father Name : Nagendra Pant \n",
      "\n",
      "Mother name : Bimala Pant \n",
      "\n",
      "Brother name : Bimala Pant \n",
      "\n",
      "Number of members = 4\n",
      "0\n"
     ]
    }
   ],
   "source": [
    "f1 = open(\"h1.txt\",\"r\")\n",
    "n = 0\n",
    "for i in f1:\n",
    "    print(i)\n",
    "    if i == \"Mother\":\n",
    "        n += 1\n",
    "    else:\n",
    "        pass\n",
    "print(n)"
   ]
  },
  {
   "cell_type": "code",
   "execution_count": 33,
   "id": "9c9aa4a5",
   "metadata": {},
   "outputs": [
    {
     "name": "stdout",
     "output_type": "stream",
     "text": [
      "Lines started with T- 1\n",
      "Lines started with A- 0\n"
     ]
    }
   ],
   "source": [
    "def countline():\n",
    "    myfile=open('h1.txt','r')\n",
    "    ctr1=ctr2=0\n",
    "    for line in myfile:\n",
    "        if line[0] in ('M','t'):\n",
    "            ctr1+=1\n",
    "        if line[0]=='A' or line[0]=='a':\n",
    "            ctr2+=1\n",
    "            \n",
    "    print('Lines started with T-',ctr1)\n",
    "    print('Lines started with A-',ctr2)\n",
    "\n",
    "countline()"
   ]
  },
  {
   "cell_type": "code",
   "execution_count": 13,
   "id": "35b56ae4",
   "metadata": {},
   "outputs": [
    {
     "name": "stdout",
     "output_type": "stream",
     "text": [
      "['Name : Apurva Pant \\n', 'Father Name : Nagendra Pant \\n', 'Mother name : Bimala Pant \\n', 'Brother name : Bimala Pant \\n', 'Number of members = 4']\n",
      "Number of lines in the file is: 5\n"
     ]
    }
   ],
   "source": [
    "# # To count number of lines in a text file:\n",
    "\n",
    "f = open(\"h1.txt\",\"r\")\n",
    "s = f.readlines()\n",
    "print(s)\n",
    "print(\"Number of lines in the file is:\",len(s))"
   ]
  },
  {
   "cell_type": "code",
   "execution_count": 44,
   "id": "0d21d850",
   "metadata": {},
   "outputs": [
    {
     "name": "stdout",
     "output_type": "stream",
     "text": [
      "['Name', ':', 'Apurva', 'Pant', 'Father', 'Name', ':', 'Nagendra', 'Pant', 'Mother', 'name', ':', 'Bimala', 'Pant', 'Brother', 'name', ':', 'Bimala', 'Pant', 'Number', 'of', 'members', '=', '4']\n",
      "Name : Apurva Pant \n",
      "Father Name : Nagendra Pant \n",
      "Mother name : Bimala Pant \n",
      "Brother name : Bimala Pant \n",
      "Number of members = 4\n",
      "Apurvaof\n"
     ]
    }
   ],
   "source": [
    "file1 = open(\"h1.txt\",\"r\")\n",
    "file2 = open(\"h2.txt\",\"w+\")\n",
    "s = file1.read()\n",
    "f = \"\"\n",
    "words = s.split()\n",
    "print(words)\n",
    "for i in words:\n",
    "    if (i[0]).lower() in ('a','e','i','o','u'):\n",
    "        f += i\n",
    "    else:\n",
    "        pass\n",
    "file1.seek(0)\n",
    "print(file1.read())\n",
    "file1.close()\n",
    "file2.write(f)\n",
    "file2.seek(0)\n",
    "print(file2.read())\n",
    "file2.close()"
   ]
  },
  {
   "cell_type": "code",
   "execution_count": 51,
   "id": "6d8468c2",
   "metadata": {},
   "outputs": [
    {
     "name": "stdout",
     "output_type": "stream",
     "text": [
      "['Name : Apurva Pant ']\n"
     ]
    }
   ],
   "source": [
    "# To count number of lines that start with any alphabet that user inputs:\n",
    "\n",
    "f1 = open(\"h1.txt\",\"r\")\n",
    "s = f1.readlines()\n",
    "for line in s:\n",
    "    word = i.splitlines()\n",
    "print(word)"
   ]
  },
  {
   "cell_type": "code",
   "execution_count": 52,
   "id": "26f2d010",
   "metadata": {},
   "outputs": [
    {
     "name": "stdout",
     "output_type": "stream",
     "text": [
      "Name : Apurva Pant \n",
      "\n",
      "Father Name : Nagendra Pant \n",
      "\n",
      "Mother name : Bimala Pant \n",
      "\n",
      "Brother name : Bimala Pant \n",
      "\n",
      "Number of members = 4\n"
     ]
    }
   ],
   "source": [
    "f1 = open(\"h1.txt\",\"r\")\n",
    "s = f1.readlines()\n",
    "for line in s:\n",
    "    print(line)"
   ]
  },
  {
   "cell_type": "code",
   "execution_count": 1,
   "id": "c56fd33c",
   "metadata": {},
   "outputs": [
    {
     "name": "stdout",
     "output_type": "stream",
     "text": [
      "Enter number of elements:4\n",
      "Enter numbers:1\n",
      "Enter numbers:2\n",
      "Enter numbers:3\n",
      "Enter numbers:2\n",
      "The list created is:\n",
      "1 is present 1 times\n",
      "2 is present 2 times\n",
      "3 is present 1 times\n"
     ]
    }
   ],
   "source": [
    "li = []\n",
    "n = int(input(\"Enter number of elements:\"))\n",
    "for i in range(n):\n",
    "    num = int(input(\"Enter numbers:\"))\n",
    "    li.append(num)\n",
    "print(\"The list created is:\",li)\n",
    "di = {}\n",
    "for i in li:\n",
    "    fre = li.count(i)\n",
    "    di[i] = fre\n",
    "for j in di:\n",
    "    print(j,\"is present\",di[j],\"times\")"
   ]
  },
  {
   "cell_type": "code",
   "execution_count": 11,
   "id": "4d0a2295",
   "metadata": {},
   "outputs": [
    {
     "name": "stdout",
     "output_type": "stream",
     "text": [
      "30#40#50#"
     ]
    }
   ],
   "source": [
    "import random\n",
    "AR = [20,30,40,50,60]\n",
    "FROM = random.randint(1,3)\n",
    "TO = random.randint(2,4)\n",
    "for K in range(FROM,TO):\n",
    "    print(AR[K],end=\"#\")"
   ]
  },
  {
   "cell_type": "code",
   "execution_count": null,
   "id": "3a3a8318",
   "metadata": {},
   "outputs": [],
   "source": []
  },
  {
   "cell_type": "code",
   "execution_count": null,
   "id": "dd23a001",
   "metadata": {},
   "outputs": [],
   "source": []
  }
 ],
 "metadata": {
  "kernelspec": {
   "display_name": "Python 3 (ipykernel)",
   "language": "python",
   "name": "python3"
  },
  "language_info": {
   "codemirror_mode": {
    "name": "ipython",
    "version": 3
   },
   "file_extension": ".py",
   "mimetype": "text/x-python",
   "name": "python",
   "nbconvert_exporter": "python",
   "pygments_lexer": "ipython3",
   "version": "3.9.12"
  }
 },
 "nbformat": 4,
 "nbformat_minor": 5
}
