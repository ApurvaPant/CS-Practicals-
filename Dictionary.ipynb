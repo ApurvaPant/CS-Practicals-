{
 "cells": [
  {
   "cell_type": "code",
   "execution_count": 4,
   "id": "63d4050f",
   "metadata": {},
   "outputs": [
    {
     "name": "stdout",
     "output_type": "stream",
     "text": [
      "Enter your user id:8902\n",
      "Enter your passowrd:h1tt1\n",
      "User unauthorizied\n"
     ]
    }
   ],
   "source": [
    "# Program to authenticate users\n",
    "\n",
    "users = {\"8524\":\"h1t6\",\"8902\":\"t1h1\"}\n",
    "name = input(\"Enter your user id:\")\n",
    "if name in users:\n",
    "    password = input(\"Enter your passowrd:\")\n",
    "    if users[name] == password:\n",
    "        print(\"User authorizied\")\n",
    "    else:\n",
    "        print(\"User unauthorizied\")\n",
    "else:\n",
    "    print(\"Id not found\")"
   ]
  },
  {
   "cell_type": "code",
   "execution_count": 3,
   "id": "bca7f64d",
   "metadata": {},
   "outputs": [
    {
     "name": "stdout",
     "output_type": "stream",
     "text": [
      "Total marks= 7 average 2.3333333333333335\n",
      "Total marks= 25 average 8.333333333333334\n"
     ]
    }
   ],
   "source": [
    "tup = ((1,2,4),(5,6,7))\n",
    "tmarks,avg = 0,0\n",
    "for i in range(len(tup)):\n",
    "    for j in range(3):\n",
    "        tmarks += tup[i][j]\n",
    "    avg = tmarks/3\n",
    "    print(\"Total marks=\",tmarks,\"average=\",avg)"
   ]
  },
  {
   "cell_type": "code",
   "execution_count": null,
   "id": "aaada2f9",
   "metadata": {},
   "outputs": [],
   "source": []
  },
  {
   "cell_type": "code",
   "execution_count": 8,
   "id": "803f3cd6",
   "metadata": {},
   "outputs": [
    {
     "name": "stdout",
     "output_type": "stream",
     "text": [
      "6\n",
      "1\n",
      "2\n",
      "3\n",
      "4\n",
      "5\n",
      "6\n",
      "5\n"
     ]
    }
   ],
   "source": []
  },
  {
   "cell_type": "code",
   "execution_count": 23,
   "id": "09e5fd72",
   "metadata": {},
   "outputs": [
    {
     "name": "stdout",
     "output_type": "stream",
     "text": [
      "4\n",
      "1\n",
      "2\n",
      "3\n",
      "4\n"
     ]
    },
    {
     "ename": "TypeError",
     "evalue": "'int' object is not callable",
     "output_type": "error",
     "traceback": [
      "\u001b[1;31m---------------------------------------------------------------------------\u001b[0m",
      "\u001b[1;31mTypeError\u001b[0m                                 Traceback (most recent call last)",
      "\u001b[1;32m~\\AppData\\Local\\Temp/ipykernel_13444/2263182220.py\u001b[0m in \u001b[0;36m<module>\u001b[1;34m\u001b[0m\n\u001b[0;32m      4\u001b[0m     \u001b[0mnum\u001b[0m \u001b[1;33m=\u001b[0m \u001b[0mint\u001b[0m\u001b[1;33m(\u001b[0m\u001b[0minput\u001b[0m\u001b[1;33m(\u001b[0m\u001b[1;33m)\u001b[0m\u001b[1;33m)\u001b[0m\u001b[1;33m\u001b[0m\u001b[1;33m\u001b[0m\u001b[0m\n\u001b[0;32m      5\u001b[0m     \u001b[0mli\u001b[0m\u001b[1;33m.\u001b[0m\u001b[0mappend\u001b[0m\u001b[1;33m(\u001b[0m\u001b[0mnum\u001b[0m\u001b[1;33m)\u001b[0m\u001b[1;33m\u001b[0m\u001b[1;33m\u001b[0m\u001b[0m\n\u001b[1;32m----> 6\u001b[1;33m \u001b[0mmaxli\u001b[0m \u001b[1;33m=\u001b[0m \u001b[0mmax\u001b[0m\u001b[1;33m(\u001b[0m\u001b[0mli\u001b[0m\u001b[1;33m)\u001b[0m\u001b[1;33m\u001b[0m\u001b[1;33m\u001b[0m\u001b[0m\n\u001b[0m\u001b[0;32m      7\u001b[0m \u001b[0msmax\u001b[0m \u001b[1;33m=\u001b[0m \u001b[1;36m0\u001b[0m\u001b[1;33m\u001b[0m\u001b[1;33m\u001b[0m\u001b[0m\n\u001b[0;32m      8\u001b[0m \u001b[1;32mfor\u001b[0m \u001b[0mi\u001b[0m \u001b[1;32min\u001b[0m \u001b[0mrange\u001b[0m\u001b[1;33m(\u001b[0m\u001b[0mn\u001b[0m\u001b[1;33m)\u001b[0m\u001b[1;33m:\u001b[0m\u001b[1;33m\u001b[0m\u001b[1;33m\u001b[0m\u001b[0m\n",
      "\u001b[1;31mTypeError\u001b[0m: 'int' object is not callable"
     ]
    }
   ],
   "source": []
  },
  {
   "cell_type": "code",
   "execution_count": 24,
   "id": "7ead423b",
   "metadata": {},
   "outputs": [
    {
     "name": "stdout",
     "output_type": "stream",
     "text": [
      "3\n",
      "1\n",
      "2\n",
      "3\n"
     ]
    },
    {
     "ename": "TypeError",
     "evalue": "'int' object is not callable",
     "output_type": "error",
     "traceback": [
      "\u001b[1;31m---------------------------------------------------------------------------\u001b[0m",
      "\u001b[1;31mTypeError\u001b[0m                                 Traceback (most recent call last)",
      "\u001b[1;32m~\\AppData\\Local\\Temp/ipykernel_13444/3815798143.py\u001b[0m in \u001b[0;36m<module>\u001b[1;34m\u001b[0m\n\u001b[0;32m      4\u001b[0m     \u001b[0mnum\u001b[0m \u001b[1;33m=\u001b[0m \u001b[0mint\u001b[0m\u001b[1;33m(\u001b[0m\u001b[0minput\u001b[0m\u001b[1;33m(\u001b[0m\u001b[1;33m)\u001b[0m\u001b[1;33m)\u001b[0m\u001b[1;33m\u001b[0m\u001b[1;33m\u001b[0m\u001b[0m\n\u001b[0;32m      5\u001b[0m     \u001b[0mli\u001b[0m\u001b[1;33m.\u001b[0m\u001b[0mappend\u001b[0m\u001b[1;33m(\u001b[0m\u001b[0mnum\u001b[0m\u001b[1;33m)\u001b[0m\u001b[1;33m\u001b[0m\u001b[1;33m\u001b[0m\u001b[0m\n\u001b[1;32m----> 6\u001b[1;33m \u001b[0mmaxli\u001b[0m \u001b[1;33m=\u001b[0m \u001b[0mmax\u001b[0m\u001b[1;33m(\u001b[0m\u001b[0mli\u001b[0m\u001b[1;33m)\u001b[0m\u001b[1;33m\u001b[0m\u001b[1;33m\u001b[0m\u001b[0m\n\u001b[0m\u001b[0;32m      7\u001b[0m \u001b[0msmax\u001b[0m \u001b[1;33m=\u001b[0m \u001b[1;36m0\u001b[0m\u001b[1;33m\u001b[0m\u001b[1;33m\u001b[0m\u001b[0m\n\u001b[0;32m      8\u001b[0m \u001b[1;32mfor\u001b[0m \u001b[0mi\u001b[0m  \u001b[1;32min\u001b[0m \u001b[0mrange\u001b[0m\u001b[1;33m(\u001b[0m\u001b[0mn\u001b[0m\u001b[1;33m)\u001b[0m\u001b[1;33m:\u001b[0m\u001b[1;33m\u001b[0m\u001b[1;33m\u001b[0m\u001b[0m\n",
      "\u001b[1;31mTypeError\u001b[0m: 'int' object is not callable"
     ]
    }
   ],
   "source": []
  },
  {
   "cell_type": "code",
   "execution_count": 27,
   "id": "9a4ce73a",
   "metadata": {},
   "outputs": [
    {
     "name": "stdout",
     "output_type": "stream",
     "text": [
      "Enter your string / sentecnceffgfa\n",
      "f : 3\n",
      "g : 1\n",
      "a : 1\n"
     ]
    }
   ],
   "source": [
    "## Write a program to count the number of times a character appears in a given string\n",
    "\n",
    "str = input(\"Enter your string / sentecnce\")\n",
    "str = str.lower()\n",
    "j = 0\n",
    "di = {}\n",
    "for i in str:\n",
    "    if i.isalpha():\n",
    "        j = str.count(i)\n",
    "        di[i] = j\n",
    "    else:\n",
    "        break\n",
    "for items in di:\n",
    "    print(items,\":\",di[items])"
   ]
  },
  {
   "cell_type": "code",
   "execution_count": 10,
   "id": "aa9231bd",
   "metadata": {},
   "outputs": [
    {
     "name": "stdout",
     "output_type": "stream",
     "text": [
      "How many employee's data you want to enter:2\n",
      "Enter name of employee:Apurva\n",
      "Enter salary of employee:500\n",
      "Enter name of employee:Abhinav\n",
      "Enter salary of employee:5000\n",
      "The dictionary created is: {'Apurva': 500, 'Abhinav': 5000}\n",
      "Apurva ---> Rs 500\n",
      "Abhinav ---> Rs 5000\n"
     ]
    }
   ],
   "source": [
    "#Program to create a dictionary which stores names of the employee and their salary\n",
    "\n",
    "di = {}\n",
    "n = int(input(\"How many employee's data you want to enter:\"))\n",
    "for i in range(n):\n",
    "    name = input(\"Enter name of employee:\")\n",
    "    salary = int(input(\"Enter salary of employee:\"))\n",
    "    di[name] = salary\n",
    "print(\"The dictionary created is:\",di)\n",
    "for items in di:\n",
    "    print(items,\"---> Rs\",di[items])"
   ]
  },
  {
   "cell_type": "code",
   "execution_count": 10,
   "id": "1b2b6f1a",
   "metadata": {},
   "outputs": [
    {
     "name": "stdout",
     "output_type": "stream",
     "text": [
      "Enter how many students data you want to enter:1\n",
      "Enter your roll no:1\n",
      "Enter your name:Abhinav\n",
      "Enter your marks:80\n",
      "The dictionary created is: {1: ('Abhinav', 80)}\n",
      "Abhinav scored 80 marks\n"
     ]
    }
   ],
   "source": [
    "# Create a dictionary of students with roll number, name and mark with roll\n",
    "# number as key and name as values in the form of tuple. Display the details of\n",
    "# student who has scored marks above 75\n",
    "\n",
    "di = {}\n",
    "n = int(input(\"Enter how many students data you want to enter:\"))\n",
    "for i in range(n):\n",
    "    roll = int(input(\"Enter your roll no:\"))\n",
    "    name = input(\"Enter your name:\")\n",
    "    marks = int(input(\"Enter your marks:\"))\n",
    "    di[roll] = (name,marks)\n",
    "print(\"The dictionary created is:\",di)\n",
    "for items in di:\n",
    "    t = di[items]\n",
    "    if t[1] > 75:\n",
    "        print(t[0],\"scored\",t[1],\"marks\")\n",
    "    else:\n",
    "        pass"
   ]
  },
  {
   "cell_type": "code",
   "execution_count": 12,
   "id": "358de6e7",
   "metadata": {},
   "outputs": [
    {
     "name": "stdout",
     "output_type": "stream",
     "text": [
      "Enter how many items you want to enter:3\n",
      "Enter name of the item:Pencil\n",
      "Enter price of Pencil\n",
      "20\n",
      "Enter name of the item:Eraser\n",
      "Enter price of Eraser\n",
      "20\n",
      "Enter name of the item:Sharpner\n",
      "Enter price of Sharpner\n",
      "5\n",
      "The dictionary created is: {'Pencil': 20, 'Eraser': 20, 'Sharpner': 5}\n",
      "The sum of all items of dictionary is 45\n"
     ]
    }
   ],
   "source": [
    "# Create a dictionary of items with item number and price. Display the sum of all items.\n",
    "\n",
    "di = {}\n",
    "n = int(input(\"Enter how many items you want to enter:\"))\n",
    "for i in range(n):\n",
    "    name = input(\"Enter name of the item:\")\n",
    "    print(\"Enter price of\",name)\n",
    "    price = int(input())\n",
    "    di[name] = price\n",
    "print(\"The dictionary created is:\",di)\n",
    "sum = 0\n",
    "for items in di:\n",
    "    sum = sum + di[items]\n",
    "print(\"The sum of all items of dictionary is\", sum)"
   ]
  },
  {
   "cell_type": "code",
   "execution_count": 15,
   "id": "8b3293d3",
   "metadata": {},
   "outputs": [
    {
     "name": "stdout",
     "output_type": "stream",
     "text": [
      "Enter how many books data you want to enter:3\n",
      "Enter book number:100\n",
      "Enter name of the book with book number 100\n",
      "Enter name of the book:dbsf\n",
      "Enter book number:324\n",
      "Enter name of the book with book number 324\n",
      "Enter name of the book:sdbsfb\n",
      "Enter book number:6747\n",
      "Enter name of the book with book number 6747\n",
      "Enter name of the book:fnfgn\n",
      "The dictionary created is: {100: 'dbsf', 324: 'sdbsfb', 6747: 'fnfgn'}\n",
      "Enter number of the book you want to search for:326\n",
      "Book not found\n"
     ]
    }
   ],
   "source": [
    "# Create a dictionary of books with book number as key and book name as value. Read a book number and search for it\n",
    "\n",
    "di = {}\n",
    "n = int(input(\"Enter how many books data you want to enter:\"))\n",
    "for i in range(n):\n",
    "    number = int(input(\"Enter book number:\"))\n",
    "    print(\"Enter name of the book with book number\", number)\n",
    "    name = input(\"Enter name of the book:\")\n",
    "    di[number] = name\n",
    "print(\"The dictionary created is:\",di)\n",
    "search = int(input(\"Enter number of the book you want to search for:\"))\n",
    "if search in di:\n",
    "    print(\"Book found\")\n",
    "else:\n",
    "    print(\"Book not found\")"
   ]
  },
  {
   "cell_type": "code",
   "execution_count": 19,
   "id": "2bdd6624",
   "metadata": {},
   "outputs": [
    {
     "name": "stdout",
     "output_type": "stream",
     "text": [
      "Enter name of the student:a\n",
      "Enter marks of a\n",
      "467\n",
      "Enter name of the student:b\n",
      "Enter marks of b\n",
      "756\n",
      "Enter name of the student:c\n",
      "Enter marks of c\n",
      "956\n",
      "Enter name of the student:d\n",
      "Enter marks of d\n",
      "7845\n",
      "Enter name of the student:f\n",
      "Enter marks of f\n",
      "8656\n",
      "Enter name of the student:j\n",
      "Enter marks of j\n",
      "4575\n",
      "The dictionary created is: {'a': 467, 'b': 756, 'c': 956, 'd': 7845, 'f': 8656, 'j': 4575}\n",
      "Name: a ---> 467\n",
      "Name: b ---> 756\n",
      "Name: c ---> 956\n",
      "Name: d ---> 7845\n",
      "Name: f ---> 8656\n",
      "Name: j ---> 4575\n",
      "f scored highest with marks of 8656\n"
     ]
    }
   ],
   "source": [
    "# ''Q.11.Sunita has created a dictionary containing names and marks as key \n",
    "# value pairs of 6 students. Write a program to perform the following \n",
    "# operations: \n",
    "# a. Display the key of the dictionary where the corresponding value (marks) \n",
    "#  is greater than 75.\n",
    "# b. Display the maximum marks obtained with the name of child\n",
    "\n",
    "di = {}\n",
    "for i in range(6):\n",
    "    name = input(\"Enter name of the student:\")\n",
    "    print(\"Enter marks of\",name)\n",
    "    marks = int(input())\n",
    "    di[name] = marks\n",
    "print(\"The dictionary created is:\",di)\n",
    "for items in di:\n",
    "    if di[items] > 75:\n",
    "        print('Name:',items,\"--->\",di[items])\n",
    "max = 0\n",
    "for items in di:\n",
    "    if di[items] > max:\n",
    "        max = di[items]\n",
    "        var = items \n",
    "print(var,\"scored highest with marks of\",max)"
   ]
  },
  {
   "cell_type": "code",
   "execution_count": null,
   "id": "08ac8e79",
   "metadata": {},
   "outputs": [
    {
     "name": "stdout",
     "output_type": "stream",
     "text": [
      "Enter Month name-January \n",
      "Enter days-31\n",
      "do you want to continue-\n",
      "Enter Y/y for continue-Y\n"
     ]
    }
   ],
   "source": []
  },
  {
   "cell_type": "code",
   "execution_count": 21,
   "id": "a130e2ee",
   "metadata": {},
   "outputs": [
    {
     "name": "stdout",
     "output_type": "stream",
     "text": [
      "Enter how many months data you want to enter:1\n",
      "Enter name of the month:January\n",
      "Enter number of days in January\n",
      "31\n",
      "The dictionary created is: {'January': 31}\n"
     ]
    }
   ],
   "source": [
    "# Create a dictionary in python whose keys are “name of months” and values are “No. of days” in corresponding Month.\n",
    "\n",
    "\n",
    "di = {}\n",
    "n = int(input(\"Enter how many months data you want to enter:\"))\n",
    "for i in range(n):\n",
    "    name = input(\"Enter name of the month:\")\n",
    "    print(\"Enter number of days in\",name)\n",
    "    days = int(input())\n",
    "    di[name] = days\n",
    "print(\"The dictionary created is:\",di)"
   ]
  },
  {
   "cell_type": "code",
   "execution_count": 1,
   "id": "c18ab156",
   "metadata": {},
   "outputs": [
    {
     "name": "stdout",
     "output_type": "stream",
     "text": [
      "Enter name of the month:January\n",
      "Enter number of days:31\n",
      "Do you want to continue:\n",
      "Enter y or Y to continue:n\n",
      "The dictionary created is: {'January': 31}\n"
     ]
    }
   ],
   "source": [
    "# Create a dictionary in python whose keys are “name of months” and values are “No. of days” in corresponding Month.\n",
    "\n",
    "di = {}\n",
    "i = \"y\"\n",
    "while i in (\"y\",\"Y\"):\n",
    "    name = input(\"Enter name of the month:\")\n",
    "    days = int(input(\"Enter number of days:\"))\n",
    "    di[name] = days\n",
    "    print(\"Do you want to continue:\")\n",
    "    i = input(\"Enter y or Y to continue:\")\n",
    "print(\"The dictionary created is:\",di)"
   ]
  },
  {
   "cell_type": "code",
   "execution_count": 28,
   "id": "e5eea7e9",
   "metadata": {},
   "outputs": [
    {
     "name": "stdout",
     "output_type": "stream",
     "text": [
      "Enter your sentence:herherher\n",
      "h ----> 3\n",
      "e ----> 3\n",
      "r ----> 3\n"
     ]
    }
   ],
   "source": [
    "# Write a program in python to input a text from the user and display the no. of occurrence of each alphabet irrespective of \n",
    "# case present in it by using a dictionary.\n",
    "\n",
    "di = {}\n",
    "str = input(\"Enter your sentence:\")\n",
    "str = str.lower()\n",
    "for i in str:\n",
    "    if i.isalpha():\n",
    "        j = str.count(i)\n",
    "        di[i] = j\n",
    "for items in di:\n",
    "    print(items,\"---->\",di[items])"
   ]
  },
  {
   "cell_type": "code",
   "execution_count": 2,
   "id": "2aa2ad1d",
   "metadata": {},
   "outputs": [
    {
     "name": "stdout",
     "output_type": "stream",
     "text": [
      "How many employees you want to enter:4\n",
      "Enter name of the employee:Abhinav\n",
      "Enter salary of Abhinav\n",
      "1\n",
      "Enter name of the employee:Apurva\n",
      "Enter salary of Apurva\n",
      "2\n",
      "Enter name of the employee:Bimala\n",
      "Enter salary of Bimala\n",
      "3\n",
      "Enter name of the employee:Nagendra\n",
      "Enter salary of Nagendra\n",
      "4\n",
      "The dictionary created is: {'Abhinav': 1, 'Apurva': 2, 'Bimala': 3, 'Nagendra': 4}\n",
      "Abhinav -----> 1\n",
      "Apurva -----> 2\n",
      "Bimala -----> 3\n",
      "Nagendra -----> 4\n"
     ]
    }
   ],
   "source": [
    "# Program to create a dictionary which stores names of the employee and their salaries.\n",
    "\n",
    "di = {}\n",
    "n = int(input(\"How many employees you want to enter:\"))\n",
    "for i in range(n):\n",
    "    name = input(\"Enter name of the employee:\")\n",
    "    print(\"Enter salary of\",name)\n",
    "    salary = int(input())\n",
    "    di[name] = salary\n",
    "print(\"The dictionary created is:\",di)\n",
    "for items in di:\n",
    "    print(items,\"----->\",di[items])"
   ]
  },
  {
   "cell_type": "code",
   "execution_count": 17,
   "id": "5eabe501",
   "metadata": {},
   "outputs": [
    {
     "name": "stdout",
     "output_type": "stream",
     "text": [
      "Enter how many elements you want to add in dictionary:5\n",
      "Enter key:1\n",
      "Enter value of key:1\n",
      "Enter key:2\n",
      "Enter value of key:2\n",
      "Enter key:3\n",
      "Enter value of key:3\n",
      "Enter key:4\n",
      "Enter value of key:4\n",
      "Enter key:5\n",
      "Enter value of key:5\n",
      "The dictinary created is: {1: 1, 2: 2, 3: 3, 4: 4, 5: 5}\n",
      "The highest 2 values are 5 and 4\n"
     ]
    }
   ],
   "source": [
    "# Write a Python program to find the highest 2 values in a dictionary.\n",
    "\n",
    "di = {}\n",
    "n = int(input(\"Enter how many elements you want to add in dictionary:\"))\n",
    "for i in range(n):\n",
    "    key = int(input(\"Enter key:\"))\n",
    "    value = int(input(\"Enter value of key:\"))\n",
    "    di[key] = value\n",
    "print(\"The dictinary created is:\",di)\n",
    "lar = 0\n",
    "for items in di:\n",
    "    if items > lar:\n",
    "        lar = items\n",
    "del di[lar]\n",
    "slar = 0\n",
    "for item in di:\n",
    "    if item > slar:\n",
    "        slar = item\n",
    "print(\"The highest 2 values are\",lar,\"and\",slar)"
   ]
  },
  {
   "cell_type": "code",
   "execution_count": 29,
   "id": "7df95fc7",
   "metadata": {},
   "outputs": [
    {
     "name": "stdout",
     "output_type": "stream",
     "text": [
      "Enter how many elements you want to add in dictionary:1\n",
      "Enter key:1\n",
      "Enter value of key:2\n",
      "The dictinary created is: {1: 2}\n"
     ]
    },
    {
     "ename": "TypeError",
     "evalue": "'int' object is not callable",
     "output_type": "error",
     "traceback": [
      "\u001b[1;31m---------------------------------------------------------------------------\u001b[0m",
      "\u001b[1;31mTypeError\u001b[0m                                 Traceback (most recent call last)",
      "\u001b[1;32m~\\AppData\\Local\\Temp/ipykernel_13444/2604387728.py\u001b[0m in \u001b[0;36m<module>\u001b[1;34m\u001b[0m\n\u001b[0;32m      6\u001b[0m     \u001b[0mdi\u001b[0m\u001b[1;33m[\u001b[0m\u001b[0mkey\u001b[0m\u001b[1;33m]\u001b[0m \u001b[1;33m=\u001b[0m \u001b[0mvalue\u001b[0m\u001b[1;33m\u001b[0m\u001b[1;33m\u001b[0m\u001b[0m\n\u001b[0;32m      7\u001b[0m \u001b[0mprint\u001b[0m\u001b[1;33m(\u001b[0m\u001b[1;34m\"The dictinary created is:\"\u001b[0m\u001b[1;33m,\u001b[0m\u001b[0mdi\u001b[0m\u001b[1;33m)\u001b[0m\u001b[1;33m\u001b[0m\u001b[1;33m\u001b[0m\u001b[0m\n\u001b[1;32m----> 8\u001b[1;33m \u001b[0mlmax\u001b[0m \u001b[1;33m=\u001b[0m \u001b[0mmax\u001b[0m\u001b[1;33m(\u001b[0m\u001b[0mdi\u001b[0m\u001b[1;33m)\u001b[0m\u001b[1;33m\u001b[0m\u001b[1;33m\u001b[0m\u001b[0m\n\u001b[0m\u001b[0;32m      9\u001b[0m \u001b[0mprint\u001b[0m\u001b[1;33m(\u001b[0m\u001b[0mlmax\u001b[0m\u001b[1;33m)\u001b[0m\u001b[1;33m\u001b[0m\u001b[1;33m\u001b[0m\u001b[0m\n",
      "\u001b[1;31mTypeError\u001b[0m: 'int' object is not callable"
     ]
    }
   ],
   "source": [
    "di = {}\n",
    "n = int(input(\"Enter how many elements you want to add in dictionary:\"))\n",
    "for i in range(n):\n",
    "    key = int(input(\"Enter key:\"))\n",
    "    value = int(input(\"Enter value of key:\"))\n",
    "    di[key] = value\n",
    "print(\"The dictinary created is:\",di)\n"
   ]
  },
  {
   "cell_type": "code",
   "execution_count": 19,
   "id": "f806a997",
   "metadata": {},
   "outputs": [
    {
     "name": "stdout",
     "output_type": "stream",
     "text": [
      "Enter your string:w3resource\n",
      "The dictionary created is: {'w': 1, '3': 1, 'r': 2, 'e': 2, 's': 1, 'o': 1, 'u': 1, 'c': 1}\n"
     ]
    }
   ],
   "source": [
    "# Write a Python program to create a dictionary from a string.\n",
    "\n",
    "di = {}\n",
    "str = input(\"Enter your string:\")\n",
    "str = str.lower()\n",
    "for i in str:\n",
    "    j = str.count(i)\n",
    "    di[i] = j\n",
    "print(\"The dictionary created is:\",di)"
   ]
  },
  {
   "cell_type": "code",
   "execution_count": 31,
   "id": "7cc72f3a",
   "metadata": {},
   "outputs": [
    {
     "name": "stdout",
     "output_type": "stream",
     "text": [
      "Number:456\n",
      "The number is: 1\n",
      "The number name is:  Four Five Six\n"
     ]
    }
   ],
   "source": [
    "num = input(\"Number:\")\n",
    "di = {0:\"Zero\",1:\"One\",2:\"Two\",3:\"Three\",4:\"Four\",5:\"Five\",6:\"Six\",7:\"Seven\",8:\"Eight\",9:\"Nine\"}\n",
    "result = ''\n",
    "for i in num:\n",
    "    key = int(i)\n",
    "    value = di[key]\n",
    "    result = result + \" \" + value\n",
    "print(\"The number is:\",n)\n",
    "print(\"The number name is:\",result)"
   ]
  },
  {
   "cell_type": "code",
   "execution_count": 14,
   "id": "bead9f1b",
   "metadata": {},
   "outputs": [
    {
     "name": "stdout",
     "output_type": "stream",
     "text": [
      "Enter how many student's data you want to enter:5\n",
      "Enter name of the student:1\n",
      "Enter roll number of the student:2\n",
      "Enter marks of the student:3\n",
      "Enter name of the student:4\n",
      "Enter roll number of the student:5\n",
      "Enter marks of the student:6\n",
      "Enter name of the student:7\n",
      "Enter roll number of the student:8\n",
      "Enter marks of the student:9\n",
      "Enter name of the student:93\n",
      "Enter roll number of the student:563\n",
      "Enter marks of the student:6734\n",
      "Enter name of the student:7457\n",
      "Enter roll number of the student:546\n",
      "Enter marks of the student:342\n",
      "The dictionary crated is: {2: ('1', 3), 5: ('4', 6), 8: ('7', 9), 563: ('93', 6734), 546: ('7457', 342)}\n",
      "Roll no: 563 \n",
      "Name: 93 \n",
      "Marks: 6734\n",
      "Roll no: 546 \n",
      "Name: 7457 \n",
      "Marks: 342\n"
     ]
    }
   ],
   "source": [
    "'''.Create a dictionary of students with roll number, name and mark with roll\n",
    "number as key and name as values in the form of tuple. Display the details of\n",
    "student who has scored marks above 75'''\n",
    "\n",
    "di = {}\n",
    "n = int(input(\"Enter how many student's data you want to enter:\"))\n",
    "for i in range(n):\n",
    "    name = input(\"Enter name of the student:\")\n",
    "    roll = int(input(\"Enter roll number of the student:\"))\n",
    "    marks = int(input(\"Enter marks of the student:\"))\n",
    "    di[roll] = (name,marks)\n",
    "print(\"The dictionary crated is:\",di)\n",
    "for items in di:\n",
    "    mark = di[items]\n",
    "    if mark[1] > 75:\n",
    "        print(\"Roll no:\",items,\"\\nName:\",mark[0],\"\\nMarks:\",mark[1])\n",
    "    else:\n",
    "        pass"
   ]
  },
  {
   "cell_type": "markdown",
   "id": "48228ad7",
   "metadata": {},
   "source": []
  }
 ],
 "metadata": {
  "kernelspec": {
   "display_name": "Python 3 (ipykernel)",
   "language": "python",
   "name": "python3"
  },
  "language_info": {
   "codemirror_mode": {
    "name": "ipython",
    "version": 3
   },
   "file_extension": ".py",
   "mimetype": "text/x-python",
   "name": "python",
   "nbconvert_exporter": "python",
   "pygments_lexer": "ipython3",
   "version": "3.9.6"
  }
 },
 "nbformat": 4,
 "nbformat_minor": 5
}
