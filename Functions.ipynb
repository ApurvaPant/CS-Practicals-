{
 "cells": [
  {
   "cell_type": "code",
   "execution_count": 3,
   "id": "d222f535",
   "metadata": {},
   "outputs": [
    {
     "name": "stdout",
     "output_type": "stream",
     "text": [
      "Enter number 1=4\n",
      "Enter number 2=5\n",
      "Sum = 9\n"
     ]
    }
   ],
   "source": [
    "# no parameter no argument:\n",
    "\n",
    "def calsum():\n",
    "    a = int(input(\"Enter number 1=\"))\n",
    "    b = int(input(\"Enter number 2=\"))\n",
    "    s = a + b\n",
    "    print(\"Sum =\",s)\n",
    "calsum()"
   ]
  },
  {
   "cell_type": "code",
   "execution_count": 4,
   "id": "5da54400",
   "metadata": {},
   "outputs": [
    {
     "name": "stdout",
     "output_type": "stream",
     "text": [
      "Enter range:4\n",
      "Not eligible\n"
     ]
    }
   ],
   "source": [
    "# Program to check elegibilty:\n",
    "\n",
    "def checkelegibility():\n",
    "    age = int(input(\"Enter age:\"))\n",
    "    if age > 18:\n",
    "        print('Elgible')\n",
    "    else:\n",
    "        print('Not eligible')\n",
    "checkelegibility()"
   ]
  },
  {
   "cell_type": "code",
   "execution_count": 1,
   "id": "1af2eff6",
   "metadata": {},
   "outputs": [
    {
     "name": "stdout",
     "output_type": "stream",
     "text": [
      "Enter how many:4\n",
      "Enter numbers:1\n",
      "Enter numbers:2\n",
      "Enter numbers:3\n",
      "Enter numbers:4\n",
      "The list created is: [1, 2, 3, 4]\n",
      "Sum of list: 10\n"
     ]
    }
   ],
   "source": [
    "# program to calculate sum of list elements:\n",
    "\n",
    "def calsum():\n",
    "    l = []\n",
    "    n = int(input(\"Enter how many:\"))\n",
    "    for i in range(n):\n",
    "        num = int(input(\"Enter numbers:\"))\n",
    "        l.append(num)\n",
    "    print(\"The list created is:\",l)\n",
    "    print(\"Sum of list:\",sum(l))\n",
    "calsum()"
   ]
  },
  {
   "cell_type": "code",
   "execution_count": 5,
   "id": "458aee80",
   "metadata": {},
   "outputs": [
    {
     "name": "stdout",
     "output_type": "stream",
     "text": [
      "Enter first number:5\n",
      "Enter second number:6\n",
      "6\n"
     ]
    }
   ],
   "source": [
    "def calsum(a,b):\n",
    "    if a > b:\n",
    "        print(a)\n",
    "    else:\n",
    "        print(b)\n",
    "x = int(input(\"Enter first number:\"))\n",
    "y = int(input(\"Enter second number:\"))\n",
    "calsum(x,y)"
   ]
  },
  {
   "cell_type": "code",
   "execution_count": 12,
   "id": "3fea4e5d",
   "metadata": {},
   "outputs": [
    {
     "name": "stdout",
     "output_type": "stream",
     "text": [
      "400 is greatest number\n",
      "100 is lowest number\n"
     ]
    }
   ],
   "source": [
    "def calsum(a,b,c):\n",
    "    lst = []\n",
    "    lst.append(a)\n",
    "    lst.append(b)\n",
    "    lst.append(c)\n",
    "    d = lst[0]\n",
    "    e = lst[0]\n",
    "    for i in range(len(lst)):\n",
    "        if lst[i] > d:\n",
    "            d = lst[i]\n",
    "        if lst[i] < e:\n",
    "            e = lst[i]\n",
    "    print(d,\"is greatest number\")\n",
    "    print(e,\"is lowest number\")\n",
    "calsum(100,400,300)"
   ]
  },
  {
   "cell_type": "code",
   "execution_count": null,
   "id": "2a8e0e89",
   "metadata": {},
   "outputs": [],
   "source": [
    "def calsum(a,b,c):\n",
    "    if a > b:\n",
    "        a > c:\n",
    "            print(a)\n",
    "    elif b > c:\n",
    "        "
   ]
  }
 ],
 "metadata": {
  "kernelspec": {
   "display_name": "Python 3 (ipykernel)",
   "language": "python",
   "name": "python3"
  },
  "language_info": {
   "codemirror_mode": {
    "name": "ipython",
    "version": 3
   },
   "file_extension": ".py",
   "mimetype": "text/x-python",
   "name": "python",
   "nbconvert_exporter": "python",
   "pygments_lexer": "ipython3",
   "version": "3.9.6"
  }
 },
 "nbformat": 4,
 "nbformat_minor": 5
}
