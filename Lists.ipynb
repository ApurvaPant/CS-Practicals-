{
 "cells": [
  {
   "cell_type": "code",
   "execution_count": 1,
   "id": "8b2ca06e",
   "metadata": {},
   "outputs": [
    {
     "name": "stdout",
     "output_type": "stream",
     "text": [
      "['a', 'b', 'c', 'd', 'e', 'f']\n"
     ]
    }
   ],
   "source": [
    "# list concatenations\n",
    "\n",
    "lst = ['a','b','c','d','e']\n",
    "lst = lst + ['f']\n",
    "print(lst)"
   ]
  },
  {
   "cell_type": "code",
   "execution_count": 3,
   "id": "8c7545ec",
   "metadata": {},
   "outputs": [
    {
     "name": "stdout",
     "output_type": "stream",
     "text": [
      "Enter elements of the list1,2,34\n",
      "['1', ',', '2', ',', '3', '4']\n"
     ]
    }
   ],
   "source": [
    "li1 = list(input(\"Enter elements of the list\"))\n",
    "print(li1)"
   ]
  },
  {
   "cell_type": "code",
   "execution_count": 1,
   "id": "480cb558",
   "metadata": {},
   "outputs": [
    {
     "name": "stdout",
     "output_type": "stream",
     "text": [
      "Red\n",
      "Black\n",
      "Blue\n",
      "Green\n",
      "Yellow\n",
      "Red\n",
      "Black\n",
      "Blue\n",
      "Green\n",
      "Yellow\n"
     ]
    }
   ],
   "source": [
    "# traversing a list\n",
    "\n",
    "list1 = ['Red', 'Black', 'Blue', 'Green', 'Yellow']\n",
    "for i in list1:\n",
    "    print(i)\n",
    "for i in range(len(list1)):\n",
    "    print(list1[i])"
   ]
  },
  {
   "cell_type": "code",
   "execution_count": 4,
   "id": "83990b45",
   "metadata": {},
   "outputs": [
    {
     "name": "stdout",
     "output_type": "stream",
     "text": [
      "['One', 'a', 'Four']\n"
     ]
    }
   ],
   "source": [
    "# List middle concatenation:\n",
    "\n",
    "li1 = ['One', 'Two', 'Three', 'Four']\n",
    "li1[1:3] = \"a\"\n",
    "print(li1)"
   ]
  },
  {
   "cell_type": "code",
   "execution_count": 43,
   "id": "c1eaeba2",
   "metadata": {},
   "outputs": [
    {
     "name": "stdout",
     "output_type": "stream",
     "text": [
      "0\n",
      "1\n",
      "2\n",
      "3\n",
      "4\n"
     ]
    }
   ],
   "source": [
    "for i in range(5):\n",
    "    print(i)"
   ]
  },
  {
   "cell_type": "code",
   "execution_count": 5,
   "id": "81895cdd",
   "metadata": {},
   "outputs": [
    {
     "name": "stdout",
     "output_type": "stream",
     "text": [
      "['Yellow', ['Hello', 4], 'Blue']\n",
      "<class 'int'>\n"
     ]
    }
   ],
   "source": [
    "# slicing a list\n",
    "\n",
    "list1 = ['Red', 'Yellow', [\"Hello\",4], 'Blue']\n",
    "print(list1[-3:])\n",
    "print(type(list1[2][1]))"
   ]
  },
  {
   "cell_type": "code",
   "execution_count": 4,
   "id": "1b82f252",
   "metadata": {},
   "outputs": [
    {
     "name": "stdout",
     "output_type": "stream",
     "text": [
      "['Mango', 'Lemon']\n",
      "['Apple']\n",
      "[]\n",
      "['Mango']\n",
      "['Orange', 'Mango', 'Lemon', 'Pineapple']\n",
      "['Pineapple', 'Lemon', 'Mango', 'Orange', 'Apple']\n",
      "['Apple', 'Lemon']\n",
      "['Apple', 'Orange', 'Mango', 'Lemon', 'Pineapple']\n",
      "['Orange', 'Mango', 'Lemon']\n",
      "[]\n"
     ]
    }
   ],
   "source": [
    "list2 = [\"Apple\", \"Orange\", \"Mango\", \"Lemon\", \"Pineapple\"]\n",
    "print(list2[2:4])\n",
    "print(list2[-5:1])\n",
    "print(list2[-1:2])\n",
    "print(list2[-3:-2])\n",
    "print(list2[1::])\n",
    "print(list2[::-1])\n",
    "print(list2[::3])\n",
    "print(list2[0:10])\n",
    "print(list2[1:4:1])\n",
    "print(list2[7:4])"
   ]
  },
  {
   "cell_type": "code",
   "execution_count": 2,
   "id": "f924cd90",
   "metadata": {},
   "outputs": [
    {
     "name": "stdout",
     "output_type": "stream",
     "text": [
      "['Hello', 'Hi', 'Good morning']\n"
     ]
    }
   ],
   "source": [
    "# strings are mutable\n",
    "\n",
    "li = ['Hello', 'Hi', 'Bye']\n",
    "li[2] = 'Good morning'\n",
    "print(li)"
   ]
  },
  {
   "cell_type": "code",
   "execution_count": 53,
   "id": "77951edd",
   "metadata": {},
   "outputs": [
    {
     "name": "stdout",
     "output_type": "stream",
     "text": [
      "4\n"
     ]
    }
   ],
   "source": [
    "# different functions \n",
    "\n",
    "# len function: len() : returns the lenght of the list passed as the argument\n",
    "\n",
    "places = ['Kathmandu', 'Pokhara', 'Butwal', 'Nawalparasi']\n",
    "print(len(places))"
   ]
  },
  {
   "cell_type": "code",
   "execution_count": 8,
   "id": "01fb0889",
   "metadata": {},
   "outputs": [
    {
     "name": "stdout",
     "output_type": "stream",
     "text": [
      "[]\n",
      "['K', 'a', 't', 'h', 'm', 'a', 'n', 'd', 'u']\n",
      "['Kathmandu', 'Pokhara']\n",
      "[0, 1, 2, 3, 4]\n"
     ]
    }
   ],
   "source": [
    "# list function: list() 1) creates an empty list if no argument is passed \n",
    "\n",
    "list1 = list()\n",
    "print(list1)\n",
    "\n",
    "# creates a list if a sequence is passed as an arguement\n",
    "\n",
    "str1 = 'Kathmandu'\n",
    "list1 = list(str1)\n",
    "print(list1)\n",
    "\n",
    "str2 = 'Kathmandu', 'Pokhara'\n",
    "list2 = list(str2)\n",
    "print(list2)\n",
    "\n",
    "l = list(range(5))\n",
    "print(l)"
   ]
  },
  {
   "cell_type": "code",
   "execution_count": 1,
   "id": "2fb800cd",
   "metadata": {},
   "outputs": [
    {
     "name": "stdout",
     "output_type": "stream",
     "text": [
      "['Momo', 'Pizza', 'Burger', 'Chowmein', 'Cold Drinks']\n",
      "['Momo', 'Pizza', 'Burger', 'Chowmein', 'Cold Drinks', ['Cake', 'Ice-cream', 'Curd']]\n"
     ]
    }
   ],
   "source": [
    "# append function: appends a single element passed as an argument at the end of the list\n",
    "\n",
    "list3 = ['Momo', 'Pizza', 'Burger', 'Chowmein']\n",
    "list3.append('Cold Drinks')\n",
    "print(list3)\n",
    "\n",
    "# the single element can also be a list\n",
    "\n",
    "Desert = ['Cake', 'Ice-cream', 'Curd']\n",
    "list3.append(Desert)\n",
    "print(list3)\n"
   ]
  },
  {
   "cell_type": "code",
   "execution_count": 9,
   "id": "44605e58",
   "metadata": {},
   "outputs": [
    {
     "name": "stdout",
     "output_type": "stream",
     "text": [
      "[40, 30, 20, 50, 10]\n",
      "[10, 20, 30, 40, 50]\n"
     ]
    }
   ],
   "source": [
    "Lst=[10,50,20,30,40]\n",
    "print(Lst[::-1])\n",
    "Lst.sort(reverse=False)\n",
    "print(Lst)"
   ]
  },
  {
   "cell_type": "code",
   "execution_count": 11,
   "id": "2c5fb8cd",
   "metadata": {},
   "outputs": [
    {
     "name": "stdout",
     "output_type": "stream",
     "text": [
      "[10, 20, 30, 'Tuesday']\n",
      "[10, 'Sunday', 'Monday', 'Tuesday']\n"
     ]
    }
   ],
   "source": [
    "L1=[10,20,30]\n",
    "L2=[\"Sunday\",\"Monday\",\"Tuesday\"]\n",
    "L1.append(L2[2])\n",
    "print(L1)\n",
    "L2.insert(0,L1[0])\n",
    "print(L2)"
   ]
  },
  {
   "cell_type": "code",
   "execution_count": 10,
   "id": "d1205186",
   "metadata": {},
   "outputs": [
    {
     "name": "stdout",
     "output_type": "stream",
     "text": [
      "[5, 6, 7, 1, 2]\n"
     ]
    }
   ],
   "source": [
    "# extend function: extend(): Appends each element of the list passed as arguement to the end of the given list\n",
    "\n",
    "num1 = [5, 6, 7]\n",
    "num2 = [8, 9, 10]\n",
    "num1.extend([1,2])\n",
    "print(num1)\n"
   ]
  },
  {
   "cell_type": "code",
   "execution_count": null,
   "id": "b881ae9e",
   "metadata": {},
   "outputs": [],
   "source": []
  },
  {
   "cell_type": "code",
   "execution_count": 11,
   "id": "16614e5e",
   "metadata": {},
   "outputs": [
    {
     "name": "stdout",
     "output_type": "stream",
     "text": [
      "[8, 9, 10]\n",
      "['a', 'i', 'e', 'o', 'u']\n"
     ]
    }
   ],
   "source": [
    "# insert function: insert(): Inserts an element at a perticular index in the list\n",
    "\n",
    "num1 = [5, 6, 7]\n",
    "num2 = [8, 10]\n",
    "num2.insert(1, 9)\n",
    "print(num2)\n",
    "vowels = ['a','i','o','u']\n",
    "vowels.insert(2,'e')\n",
    "print(vowels)"
   ]
  },
  {
   "cell_type": "code",
   "execution_count": 13,
   "id": "58f9b247",
   "metadata": {},
   "outputs": [
    {
     "name": "stdout",
     "output_type": "stream",
     "text": [
      "2\n",
      "1\n",
      "['one', 'one', 2, 3]\n"
     ]
    }
   ],
   "source": [
    "# count function: count(): Returns the numbers of times a given element appears in a list\n",
    "\n",
    "list1 = ['one','one',2,'two',3]\n",
    "print(list1.count('one'))\n",
    "print(list1.count(2))\n",
    "del list1[3]\n",
    "print(list1)"
   ]
  },
  {
   "cell_type": "code",
   "execution_count": 12,
   "id": "4612fd4e",
   "metadata": {},
   "outputs": [
    {
     "name": "stdout",
     "output_type": "stream",
     "text": [
      "0\n",
      "4\n",
      "['one', 'one', 2, 'two', 3, 2]\n"
     ]
    }
   ],
   "source": [
    "# index function: index(): Returns the index of the first occurance of the element in the list. If element is not present,\n",
    "#                          valueerror is generated \n",
    "\n",
    "list1 = ['one','one',2,'two',3]\n",
    "print(list1.index('one'))\n",
    "print(list1.index(3))\n",
    "list1.append(2)\n",
    "print(list1)"
   ]
  },
  {
   "cell_type": "code",
   "execution_count": 16,
   "id": "655f21c0",
   "metadata": {},
   "outputs": [
    {
     "name": "stdout",
     "output_type": "stream",
     "text": [
      "['one', 2, 'two', 3]\n"
     ]
    },
    {
     "ename": "TypeError",
     "evalue": "list.remove() takes exactly one argument (0 given)",
     "output_type": "error",
     "traceback": [
      "\u001b[1;31m---------------------------------------------------------------------------\u001b[0m",
      "\u001b[1;31mTypeError\u001b[0m                                 Traceback (most recent call last)",
      "Input \u001b[1;32mIn [16]\u001b[0m, in \u001b[0;36m<cell line: 7>\u001b[1;34m()\u001b[0m\n\u001b[0;32m      5\u001b[0m list1\u001b[38;5;241m.\u001b[39mremove(\u001b[38;5;124m'\u001b[39m\u001b[38;5;124mone\u001b[39m\u001b[38;5;124m'\u001b[39m)\n\u001b[0;32m      6\u001b[0m \u001b[38;5;28mprint\u001b[39m(list1)\n\u001b[1;32m----> 7\u001b[0m \u001b[43mlist1\u001b[49m\u001b[38;5;241;43m.\u001b[39;49m\u001b[43mremove\u001b[49m\u001b[43m(\u001b[49m\u001b[43m)\u001b[49m\n\u001b[0;32m      8\u001b[0m \u001b[38;5;28mprint\u001b[39m(list1)\n",
      "\u001b[1;31mTypeError\u001b[0m: list.remove() takes exactly one argument (0 given)"
     ]
    }
   ],
   "source": [
    "# remove function: remove(): Removes the given element from the list. If the element is present multiple times, the first only \n",
    "#                            occurance is removed. If the element is not present, the valueerror is generated.\n",
    "\n",
    "list1 = ['one','one',2,'two',3]\n",
    "list1.remove('one')\n",
    "print(list1)\n",
    "list1.remove()\n",
    "print(list1)"
   ]
  },
  {
   "cell_type": "code",
   "execution_count": 24,
   "id": "79f0188c",
   "metadata": {},
   "outputs": [
    {
     "name": "stdout",
     "output_type": "stream",
     "text": [
      "4 ['a5', 'b', 'c', 'd']\n",
      "3 ['a5', 'b4', 'c', 'd']\n",
      "2 ['a5', 'b4', 'c3', 'd']\n",
      "1 ['a5', 'b4', 'c3', 'd2']\n"
     ]
    }
   ],
   "source": [
    "L=['a', 'b', 'c', 'd']\n",
    "D=5\n",
    "for I in range(len(L)):\n",
    "    L[I]+=str(D)\n",
    "    D=D-1\n",
    "    print(D,L)"
   ]
  },
  {
   "cell_type": "code",
   "execution_count": null,
   "id": "e26d5e14",
   "metadata": {},
   "outputs": [],
   "source": []
  },
  {
   "cell_type": "code",
   "execution_count": null,
   "id": "970ff313",
   "metadata": {},
   "outputs": [],
   "source": []
  },
  {
   "cell_type": "code",
   "execution_count": 13,
   "id": "45cac7bf",
   "metadata": {},
   "outputs": [
    {
     "name": "stdout",
     "output_type": "stream",
     "text": [
      "[24, 53, 73, 45]\n",
      "Cow\n",
      "['Dog', 'Cat']\n"
     ]
    }
   ],
   "source": [
    "# pop function: pop(): Returns the element whose index is passed as paramater to this function and also removes if from the list\n",
    "#                      If no parameter is given, then it returns and removes the last element of the list.\n",
    "\n",
    "list1 = [24, 53, 26, 73, 45]\n",
    "list1.pop(2)\n",
    "print(list1)\n",
    "# outupt: 26\n",
    "list2 = [\"Dog\", \"Cat\", \"Cow\"]\n",
    "print(list2.pop())\n",
    "print(list2)"
   ]
  },
  {
   "cell_type": "code",
   "execution_count": 36,
   "id": "78574603",
   "metadata": {},
   "outputs": [
    {
     "name": "stdout",
     "output_type": "stream",
     "text": [
      "[50, 40, 30, 20, 10]\n"
     ]
    }
   ],
   "source": [
    "# reverse function: reverse(): Reverses the order of the elements in the list\n",
    "\n",
    "list1 = [10,20,30,40,50]\n",
    "list1.reverse()\n",
    "print(list1)"
   ]
  },
  {
   "cell_type": "code",
   "execution_count": 15,
   "id": "03731342",
   "metadata": {
    "scrolled": true
   },
   "outputs": [
    {
     "name": "stdout",
     "output_type": "stream",
     "text": [
      "[343, 645, 24332]\n",
      "[24332, 645, 343]\n",
      "['cat', 'Dog', 'Cow']\n",
      "2710160475008\n",
      "140711197449432\n",
      "['Cowi', 'Dog', 'cat']\n"
     ]
    }
   ],
   "source": [
    "# sort function: sort(): Sorts the element of the given list in-place\n",
    "# list.sort(reverse = True) - elements(substrings) are arranged acc to alphabetical order (for alphabets)\n",
    "# list.sort(reverse = False) - elements(substrings) are arranged acc to alphabetical order (for alphabets)\n",
    "# list.sort(reverse = True) - elements of list are arranged in descending order (for numbers)\n",
    "# list.sort(reverse = False) - elements of list are arranged in ascending order (for numbers)\n",
    "\n",
    "list1 = [343,24332,645]\n",
    "list1.sort()\n",
    "print(list1)\n",
    "list2 = [343,24332,645]\n",
    "list2.sort(reverse=True)\n",
    "print(list2)\n",
    "list3=[\"Dog\", \"cat\", \"Cow\"]\n",
    "list3.sort(reverse=True)\n",
    "print(list3)\n",
    "list4=[\"Dog\", \"Cowi\", \"cat\"]\n",
    "print(id(list4))\n",
    "list5 = list4.sort(reverse=False)\n",
    "print(id(list5))\n",
    "print(list4)"
   ]
  },
  {
   "cell_type": "code",
   "execution_count": 22,
   "id": "cd6e9473",
   "metadata": {},
   "outputs": [
    {
     "name": "stdout",
     "output_type": "stream",
     "text": [
      "2142542596672\n",
      "2142543254272\n",
      "[3, 65, 24, 542]\n",
      "[3, 24, 65, 542]\n"
     ]
    }
   ],
   "source": [
    "# sorted function: sorted(): It takes a list as parameter and creates a new list consisting of the same elements arranged in \n",
    "#                            sorted order.\n",
    "\n",
    "list1 = [3, 65, 24, 542]\n",
    "list2 = sorted(list1)\n",
    "print(id(list1))\n",
    "print(id(list2))\n",
    "print(list1)\n",
    "print(list2)"
   ]
  },
  {
   "cell_type": "code",
   "execution_count": 1,
   "id": "09caef9a",
   "metadata": {},
   "outputs": [
    {
     "name": "stdout",
     "output_type": "stream",
     "text": [
      "Cat\n",
      "3\n"
     ]
    }
   ],
   "source": [
    "# min function: min(): Returns minimum or smallest element of the list\n",
    "#                     to print the the output just do min.list[only prints the latest output i.e. when two outputs are supposed \n",
    "#                     to printed only the latest output is printed] or print(min(list))  \n",
    "#                     NOTE: for alphabets the output is given on the basis of alphabetical order [for eg: in apurva and abhinav\n",
    "#                     the minimum value will be abhinav and in the case of Apurva and abhinav (case difference) Apurva will be \n",
    "#                     printed as minimum value following unicode standrads]\n",
    "\n",
    "list1 = [\"Dog\", \"Cat\", \"Cow\"]\n",
    "print(min(list1))\n",
    "list2 = [3, 65, 24, 542]\n",
    "print(min(list2))"
   ]
  },
  {
   "cell_type": "code",
   "execution_count": 2,
   "id": "34d1a8fe",
   "metadata": {},
   "outputs": [
    {
     "name": "stdout",
     "output_type": "stream",
     "text": [
      "Dog\n",
      "542\n"
     ]
    }
   ],
   "source": [
    "# max function: max(): Returns maximum or largest element of the list\n",
    "\n",
    "list1 = [\"Dog\", \"Cat\", \"Cow\"]\n",
    "print(max(list1))\n",
    "list2 = [3, 65, 24, 542]\n",
    "print(max(list2))"
   ]
  },
  {
   "cell_type": "code",
   "execution_count": 87,
   "id": "75529510",
   "metadata": {},
   "outputs": [
    {
     "name": "stdout",
     "output_type": "stream",
     "text": [
      "9431\n",
      "634\n"
     ]
    }
   ],
   "source": [
    "# sum function: sum(): Returns sum of elemenets of list (can't be used with strings)\n",
    "\n",
    "list1 = [3343, 5453, 635]\n",
    "print(sum(list1))\n",
    "list2 = [3, 65, 24, 542]\n",
    "print(sum(list2))\n"
   ]
  },
  {
   "cell_type": "code",
   "execution_count": 99,
   "id": "718a1f46",
   "metadata": {},
   "outputs": [
    {
     "name": "stdout",
     "output_type": "stream",
     "text": [
      "[5, 6, 7]\n",
      "6\n",
      "7\n"
     ]
    }
   ],
   "source": [
    "# NESTED lists \n",
    "\n",
    "list1 = [1,2,3,'a','b','c',[5,6,7],6,9]\n",
    "# to abstract whole list\n",
    "print(list1[6])\n",
    "print(list1[7])\n",
    "# to abstract single elements of nested list\n",
    "print(list1[6][2])"
   ]
  },
  {
   "cell_type": "code",
   "execution_count": 109,
   "id": "e8e68737",
   "metadata": {},
   "outputs": [
    {
     "name": "stdout",
     "output_type": "stream",
     "text": [
      "[34, 53, 5, 83]\n",
      "[34, 53, 5, 83]\n",
      "[34, 53, 5, 83, 4]\n",
      "[34, 53, 5, 83]\n",
      "[34, 64, 23, 83, 34]\n",
      "[34, 64, 23, 83]\n",
      "[32, 64, 264, 6, 43]\n",
      "[32, 64, 264, 6]\n"
     ]
    }
   ],
   "source": [
    "# COPYING lists\n",
    "\n",
    "# method 1 (conservative method [both value of lists are changed even if only 1 list is changed])\n",
    "\n",
    "list1 = [34, 53, 5, 83]\n",
    "list2 = list1\n",
    "print(list1)\n",
    "print(list2)\n",
    "\n",
    "# method 2 (slicing original list  abd store it into a new variable) [this method will not change the value of both the variable\n",
    "#           unlike in the previous method ]\n",
    "#           newlist = oldlist[:]\n",
    "\n",
    "list3 = [34, 53, 5, 83]\n",
    "list4 = list3[:]\n",
    "list3.append(4)\n",
    "print(list3)\n",
    "print(list4)\n",
    "\n",
    "# method 3 (built-in list function list())\n",
    "#          newlist = list(oldlist)\n",
    "\n",
    "list5 = [34, 64, 23, 83]\n",
    "list6 = list(list5)\n",
    "list5.append(34)\n",
    "print(list5)\n",
    "print(list6)\n",
    "\n",
    "# method 4 copy function (import from the library)\n",
    "#          import copy\n",
    "#          newlist = copy.copy(oldlist)\n",
    "\n",
    "import copy\n",
    "list7 = [32, 64, 264, 6]\n",
    "list8 = copy.copy(list7)\n",
    "list7.append(43)\n",
    "print(list7)\n",
    "print(list8)"
   ]
  },
  {
   "cell_type": "code",
   "execution_count": 8,
   "id": "702c387b",
   "metadata": {},
   "outputs": [
    {
     "name": "stdout",
     "output_type": "stream",
     "text": [
      "Enter how many elements you want to add:5\n",
      "Enter the elements:345\n",
      "Enter the elements:745\n",
      "Enter the elements:2345\n",
      "Enter the elements:8456\n",
      "Enter the elements:23456\n",
      "The list is: [345, 745, 2345, 8456, 23456]\n",
      "The minimum value is 345\n"
     ]
    }
   ],
   "source": [
    "# to check min value \n",
    "\n",
    "lst = []\n",
    "n = eval(input(\"Enter how many elements you want to add:\"))\n",
    "for i in range(0,n):\n",
    "    val = eval(input(\"Enter the elements:\"))\n",
    "    lst.append(val)\n",
    "print(\"The list is:\",lst)\n",
    "lst.sort()\n",
    "print(\"The minimum value is\",lst[0])"
   ]
  },
  {
   "cell_type": "code",
   "execution_count": null,
   "id": "1189ff7c",
   "metadata": {},
   "outputs": [
    {
     "name": "stdout",
     "output_type": "stream",
     "text": [
      "How many elements you want to add:5\n"
     ]
    }
   ],
   "source": [
    "# to check min value\n",
    "\n",
    "lst = []\n",
    "n = int(input(\"How many elements you want to add:\"))\n",
    "for i in range(0,n):\n",
    "    val = int(input(\"Enter the elements:\"))\n",
    "    lst.append(val)\n",
    "print(min(lst))\n",
    "print(sum(lst))"
   ]
  },
  {
   "cell_type": "code",
   "execution_count": 1,
   "id": "f3d891ec",
   "metadata": {},
   "outputs": [
    {
     "name": "stdout",
     "output_type": "stream",
     "text": [
      "Enter how many elements you want to add:3\n",
      "Enter the elements:4\n",
      "Enter the elements:5\n",
      "Enter the elements:6\n",
      "The list created is [4, 5, 6]\n",
      "The sum of the following list is: 15\n"
     ]
    }
   ],
   "source": [
    "# to find the sum of the list created by user\n",
    "\n",
    "lst = []\n",
    "n = int(input(\"Enter how many elements you want to add:\"))\n",
    "for i in range(0,n):\n",
    "    val = eval(input(\"Enter the elements:\"))\n",
    "    lst.append(val)\n",
    "print(\"The list created is\",lst)\n",
    "sum = 0\n",
    "for i in range(0,len(lst)):\n",
    "    fa = lst[i]\n",
    "    sum = sum + fa\n",
    "print(\"The sum of the following list is:\", sum)"
   ]
  },
  {
   "cell_type": "code",
   "execution_count": 10,
   "id": "7529ac44",
   "metadata": {},
   "outputs": [
    {
     "name": "stdout",
     "output_type": "stream",
     "text": [
      "Enter how many elements you want to have 4\n",
      "Enter elements of the list:2\n",
      "Enter elements of the list:3\n",
      "Enter elements of the list:4\n",
      "Enter elements of the list:5\n",
      "The created list is: [2, 3, 4, 5]\n",
      "The maximum value of the following list is: 234\n"
     ]
    }
   ],
   "source": [
    "# to find the maximum value among the list created by user\n",
    "\n",
    "lst = []\n",
    "n = eval(input(\"Enter how many elements you want to have \"))\n",
    "for i in range(0,n):\n",
    "    val = eval(input(\"Enter elements of the list:\"))\n",
    "    lst.append(val)\n",
    "print(\"The created list is:\",lst)\n",
    "he = 0\n",
    "for i in range(0,n):\n",
    "    se = lst[i]\n",
    "    if he < se: \n",
    "        he = se\n",
    "print(\"The maximum value of the following list is:\", he)"
   ]
  },
  {
   "cell_type": "code",
   "execution_count": 16,
   "id": "e8acc2c6",
   "metadata": {},
   "outputs": [
    {
     "name": "stdout",
     "output_type": "stream",
     "text": [
      "For which element you wnat to make change:2\n",
      "Enter the what value you want to have in the place of previous value:iof\n",
      "['One', 'Two', 'iof']\n"
     ]
    }
   ],
   "source": [
    "# program to change the element of the list as per the user's choice\n",
    "\n",
    "li = [\"One\", \"Two\", \"Three\"]\n",
    "i = eval(input(\"For which element you wnat to make change:\"))\n",
    "li[i] = input(\"Enter the what value you want to have in the place of previous value:\")\n",
    "print(li)"
   ]
  },
  {
   "cell_type": "code",
   "execution_count": 2,
   "id": "23fa780a",
   "metadata": {},
   "outputs": [
    {
     "name": "stdout",
     "output_type": "stream",
     "text": [
      "Enter how many elements you want to add in list:3\n",
      "Enter the elements of the list:momo\n",
      "Enter the elements of the list:pizza\n",
      "Enter the elements of the list:burger\n",
      "The list created is: ['momo', 'pizza', 'burger']\n",
      "Enter for which word you want to check the presence of:burger\n",
      "The number of presence of burger in the list is 1\n"
     ]
    }
   ],
   "source": [
    "# program to search an element in user created list\n",
    "\n",
    "lst = []\n",
    "n = eval(input(\"Enter how many elements you want to add in list:\"))\n",
    "for i in range(0,n):\n",
    "    val = input(\"Enter the elements of the list:\")\n",
    "    lst.append(val)\n",
    "print(\"The list created is:\", lst)\n",
    "pre = 0\n",
    "che = input(\"Enter for which word you want to check the presence of:\")\n",
    "for i in range(0,n):\n",
    "    if lst[i] == che:\n",
    "        pre += 1\n",
    "if pre == 0:\n",
    "    print(\"Item not found\")\n",
    "else:\n",
    "    print(\"The number of presence of\", che, \"in the list is\", pre)"
   ]
  },
  {
   "cell_type": "code",
   "execution_count": 9,
   "id": "bb0013ca",
   "metadata": {},
   "outputs": [
    {
     "name": "stdout",
     "output_type": "stream",
     "text": [
      "Enter how many elements you want to add in string:4\n",
      "Enter the elements of the list:1\n",
      "Enter the elements of the list:2\n",
      "Enter the elements of the list:3\n",
      "Enter the elements of the list:4\n",
      "The list created is: [1, 2, 3, 4]\n",
      "Even numbers= 2 \n",
      "Odd numbers= 2 \n",
      "Sum of even numbers= 6 \n",
      "Sum of odd numbers= 4\n"
     ]
    }
   ],
   "source": [
    "# to find number of even and odd numbers and their sum in user created list\n",
    "\n",
    "lst = []\n",
    "n = eval(input(\"Enter how many elements you want to add in list:\"))\n",
    "for i in range(0,n):\n",
    "    val = int(input(\"Enter the elements of the list:\"))\n",
    "    lst.append(val)\n",
    "print(\"The list created is:\", lst)\n",
    "o,e,osum,esum = 0,0,0,0\n",
    "for i in range(0,len(lst)):\n",
    "    if lst[i]%2 == 0:\n",
    "        e += 1\n",
    "        esum += lst[i]\n",
    "    else:\n",
    "        o += 1\n",
    "        osum += lst[i]\n",
    "print(\"Even numbers=\", e, \"\\nOdd numbers=\", o, \"\\nSum of even numbers=\", esum, \"\\nSum of odd numbers=\", osum)"
   ]
  },
  {
   "cell_type": "code",
   "execution_count": 2,
   "id": "cd445924",
   "metadata": {},
   "outputs": [
    {
     "name": "stdout",
     "output_type": "stream",
     "text": [
      "Enter how many elements you want to add in the list:4\n",
      "Enter elements of the list:Apple\n",
      "Enter elements of the list:Samsung\n",
      "Enter elements of the list:Oneplus\n",
      "Enter elements of the list:Oppo\n",
      "The created list is: ['Apple', 'Samsung', 'Oneplus', 'Oppo']\n",
      "Enter which element you want to change:Oppo\n",
      "What do you wnat to replace with:Vivo\n",
      "The modified list is: ['Apple', 'Samsung', 'Oneplus', 'Vivo']\n"
     ]
    }
   ],
   "source": [
    "# to modify user created list as per the user's convenience \n",
    "\n",
    "lst = []\n",
    "n = eval(input(\"Enter how many elements you want to add in the list:\"))\n",
    "for i in range(0,n):\n",
    "    val = input(\"Enter elements of the list:\")\n",
    "    lst.append(val)\n",
    "print(\"The created list is:\", lst)\n",
    "cha = input(\"Enter which element you want to change:\")\n",
    "if cha in lst:\n",
    "    ind = lst.index(cha)\n",
    "    lst[ind] = input(\"What do you wnat to replace with:\")\n",
    "    print(\"The modified list is:\", lst) \n",
    "else:\n",
    "    print(\"Item not found\")\n"
   ]
  },
  {
   "cell_type": "code",
   "execution_count": 6,
   "id": "2bbefe0c",
   "metadata": {},
   "outputs": [
    {
     "name": "stdout",
     "output_type": "stream",
     "text": [
      "Enter how many elements you want to add in the list:4\n",
      "Enter elements of the list:apple\n",
      "Enter elements of the list:apple\n",
      "Enter elements of the list:samsung\n",
      "Enter elements of the list:oneplus \n",
      "The created list is: ['apple', 'apple', 'samsung', 'oneplus ']\n",
      "Enter the element to find the occurance of:apple\n",
      "The element apple is presenet 2 times\n"
     ]
    }
   ],
   "source": [
    "# BOOK PROBLEMS:\n",
    "\n",
    "# program to find the number of times an elemnt occurs in the list:\n",
    "\n",
    "lst = []\n",
    "n = eval(input(\"Enter how many elements you want to add in the list:\"))\n",
    "for i in range(0,n):\n",
    "    val = input(\"Enter elements of the list:\")\n",
    "    lst.append(val)\n",
    "print(\"The created list is:\", lst)\n",
    "pre = 0\n",
    "che = input(\"Enter the element to find the occurance of:\")\n",
    "for i in range(0,len(lst)):\n",
    "    if lst[i] == che:\n",
    "        pre += 1\n",
    "print(\"The element\",che, \"is presenet\", pre, \"times\")"
   ]
  },
  {
   "cell_type": "code",
   "execution_count": 1,
   "id": "c3a011ca",
   "metadata": {},
   "outputs": [
    {
     "name": "stdout",
     "output_type": "stream",
     "text": [
      "Enter the numbers you want to add in list:4\n",
      "Enter the elements:-5\n",
      "Enter the elements:3\n",
      "Enter the elements:-7\n",
      "Enter the elements:2\n",
      "User created list= [-5, 3, -7, 2] \n",
      "Positive integer list= [3, 2] \n",
      "Negative integer list= [-5, -7]\n"
     ]
    }
   ],
   "source": [
    "#  write a program to read a list of n integers (positive as well as negative). Create two new lists, one having all negative \n",
    "#  numbers other having all positive numbers from the given list. Print all three lists.\n",
    "\n",
    "lst = []\n",
    "n = eval(input(\"Enter the numbers you want to add in list:\"))\n",
    "for i in range(0,n):\n",
    "    val = eval(input(\"Enter the elements:\"))\n",
    "    lst.append(val)\n",
    "plst = []\n",
    "nlst = []\n",
    "for i in range(0,len(lst)):\n",
    "    if lst[i] < 0:\n",
    "        nlst.append(lst[i])\n",
    "    else:\n",
    "        plst.append(lst[i])\n",
    "print(\"User created list=\",lst, \"\\nPositive integer list=\",plst, \"\\nNegative integer list=\",nlst)"
   ]
  },
  {
   "cell_type": "code",
   "execution_count": 6,
   "id": "b72e0ba0",
   "metadata": {},
   "outputs": [
    {
     "name": "stdout",
     "output_type": "stream",
     "text": [
      "Enter how many elements you want to add:3\n",
      "Enter the elements:123\n",
      "Enter the elements:85\n",
      "Enter the elements:34\n",
      "[123, 85, 34]\n",
      "85\n"
     ]
    }
   ],
   "source": [
    "# to find the second largest number in the list\n",
    "\n",
    "lst = []\n",
    "n = int(input(\"Enter how many elements you want to add:\"))\n",
    "for i in range(0,n):\n",
    "    val = eval(input(\"Enter the elements:\"))\n",
    "    lst.append(val)\n",
    "print(lst)\n",
    "lst.sort(reverse=False)\n",
    "print(lst[len(lst)-2])"
   ]
  },
  {
   "cell_type": "code",
   "execution_count": 18,
   "id": "39a3b241",
   "metadata": {},
   "outputs": [
    {
     "name": "stdout",
     "output_type": "stream",
     "text": [
      "Enter how many elements you want to add:4\n",
      "Enter the elements:1\n",
      "Enter the elements:2\n",
      "Enter the elements:3\n",
      "Enter the elements:4\n",
      "[1, 2, 3, 4]\n",
      "The second largest number of the list is: 3\n"
     ]
    }
   ],
   "source": [
    "lst = []\n",
    "n = int(input(\"Enter how many elements you want to add:\"))\n",
    "for i in range(0,n):\n",
    "    val = eval(input(\"Enter the elements:\"))\n",
    "    lst.append(val)\n",
    "print(lst)\n",
    "lar = 0\n",
    "for i in range(0,len(lst)):\n",
    "    if lst[i] > lar:\n",
    "        lar = lst[i]\n",
    "lst.remove(lar)\n",
    "slar = 0\n",
    "for i in range(0,len(lst)):\n",
    "    if lst[i] > slar:\n",
    "        slar = lst[i]\n",
    "print(\"The second largest number of the list is:\", slar)"
   ]
  },
  {
   "cell_type": "code",
   "execution_count": 10,
   "id": "8aeafc2f",
   "metadata": {},
   "outputs": [
    {
     "name": "stdout",
     "output_type": "stream",
     "text": [
      "Enter how many elements you want to add:4\n",
      "Enter the elements:534\n",
      "Enter the elements:134\n",
      "Enter the elements:632\n",
      "Enter the elements:75\n",
      "The list creatd is: [75, 134, 534, 632]\n",
      "The median is 334.0\n"
     ]
    }
   ],
   "source": [
    "# to find median of the user-made list:\n",
    "\n",
    "lst = []\n",
    "n = int(input(\"Enter how many elements you want to add:\"))\n",
    "for i in range(0,n):\n",
    "    val = eval(input(\"Enter the elements:\"))\n",
    "    lst.append(val)\n",
    "lst.sort(reverse=False)\n",
    "print(\"The list creatd is:\",lst)\n",
    "if (len(lst)%2 != 0):\n",
    "    med = (1+len(lst)/2)\n",
    "    med = int(med - 1)\n",
    "    print(\"The median is\", lst[med])\n",
    "else:\n",
    "    med1 = int((len(lst)/2)-1)\n",
    "    med2 = int((len(lst)/2))\n",
    "    med = ((lst[med1] + lst[med2]) / 2)\n",
    "    print(\"The median is\", med)"
   ]
  },
  {
   "cell_type": "code",
   "execution_count": 7,
   "id": "4476393c",
   "metadata": {},
   "outputs": [
    {
     "name": "stdout",
     "output_type": "stream",
     "text": [
      "Enter how many elements you want to add:5\n",
      "Enter the elements:Abhinav\n",
      "Enter the elements:Apurva\n",
      "Enter the elements:Abhinav\n",
      "Enter the elements:Abhinav\n",
      "Enter the elements:Apurva\n",
      "['Abhinav', 'Apurva', 'Abhinav', 'Abhinav', 'Apurva']\n",
      "['Abhinav', 'Apurva']\n"
     ]
    }
   ],
   "source": [
    "# to remove duplicate items in user created list without using set function:\n",
    "\n",
    "lst = []\n",
    "n = int(input(\"Enter how many elements you want to add:\"))\n",
    "for i in range(0,n):\n",
    "    val = input(\"Enter the elements:\")\n",
    "    lst.append(val)\n",
    "print(lst)\n",
    "dlist = []\n",
    "for i in range(0,len(lst)):\n",
    "    if lst[i] not in dlist:\n",
    "        dlist.append(lst[i])\n",
    "print(dlist)"
   ]
  },
  {
   "cell_type": "code",
   "execution_count": null,
   "id": "ad0a8fb0",
   "metadata": {},
   "outputs": [],
   "source": [
    "# write a program to read elements of a list and:\n",
    "\n",
    "# 1) The program should ask for the position of the element to be deleted from the list. Write a function to delete the element \n",
    "#    at the desired position.\n",
    "\n",
    "lst = []\n",
    "n = int(input(\"Enter how many elements you want to add:\"))\n",
    "for i in range(0,n):\n",
    "    val = eval(input(\"Enter the elements:\"))\n",
    "    lst.append(val)\n",
    "print(lst)\n",
    "lst.remove(lst[1])\n",
    "print(lst)"
   ]
  },
  {
   "cell_type": "code",
   "execution_count": 14,
   "id": "b52121f3",
   "metadata": {},
   "outputs": [
    {
     "name": "stdout",
     "output_type": "stream",
     "text": [
      "The index of 22 : 0\n",
      "The index of 45 : 1\n",
      "The index of 67 : 2\n",
      "The index of 89 : 3\n",
      "The index of 6 : 4\n",
      "The index of 1 : 5\n",
      "The index of 34 : 6\n",
      "The index of 56 : 7\n",
      "The index of 89 : 3\n",
      "The index of 10 : 9\n"
     ]
    }
   ],
   "source": [
    "# internet porgramming questions:\n",
    "\n",
    "# Create a list of the following numbers and print them with their index.\n",
    "\n",
    "lst = [22,45,67,89,6,1,34,56,89,10]\n",
    "for i in range(0,len(lst)):\n",
    "    print(\"The index of\", lst[i], \":\", lst.index(lst[i]))\n",
    "    "
   ]
  },
  {
   "cell_type": "code",
   "execution_count": 42,
   "id": "ca26e94d",
   "metadata": {},
   "outputs": [
    {
     "name": "stdout",
     "output_type": "stream",
     "text": [
      "Enter how many elements you want to add:6\n",
      "Enter the elements:15\n",
      "Enter the elements:26\n",
      "Enter the elements:37\n",
      "Enter the elements:10\n",
      "Enter the elements:22\n",
      "Enter the elements:13\n",
      "The list created: [15, 26, 37, 10, 22, 13]\n",
      "Even sum= 58 \n",
      "Odd sum= 65\n"
     ]
    }
   ],
   "source": [
    "# to find the number of odd and even elements in the list:\n",
    "\n",
    "lst = []\n",
    "n = int(input(\"Enter how many elements you want to add:\"))\n",
    "for i in range(0,n):\n",
    "    val = eval(input(\"Enter the elements:\"))\n",
    "    lst.append(val)\n",
    "print(\"The list created:\", lst)\n",
    "esum,osum = 0,0\n",
    "for i in range(0,len(lst)):\n",
    "    if (lst[i] % 2 == 0):\n",
    "        esum = esum + lst[i]\n",
    "    else:\n",
    "        osum = osum + lst[i]\n",
    "print(\"Even sum=\",esum,\"\\nOdd sum=\",osum)"
   ]
  },
  {
   "cell_type": "code",
   "execution_count": null,
   "id": "7e5fe00f",
   "metadata": {},
   "outputs": [],
   "source": [
    "# to find the largest number from user created list;\n",
    "\n",
    "n = int(input(\"Enter how many elements you want to add:\"))\n",
    "for i in range(0,n):\n",
    "    val = eval(input(\"Enter the elements:\"))\n",
    "    lst.append(val)\n",
    "print(\"The list created:\", lst)\n",
    "lar = 0\n",
    "for i in range(0,len(lst)):\n",
    "    if lst[i] > lar:\n",
    "        lar = lst[i]\n",
    "print(\"The largest element in the list:\", lar)"
   ]
  },
  {
   "cell_type": "code",
   "execution_count": 1,
   "id": "ceff0656",
   "metadata": {},
   "outputs": [
    {
     "name": "stdout",
     "output_type": "stream",
     "text": [
      "Enter how many elements you want to add:3\n",
      "Enter the elements:1\n",
      "Enter the elements:4\n",
      "Enter the elements:63\n",
      "The list created: [1, 4, 63]\n",
      "The list created: [1, 4]\n"
     ]
    }
   ],
   "source": [
    "# Print list after removing all elements which are divided by 3.\n",
    "\n",
    "lst = []\n",
    "n = int(input(\"Enter how many elements you want to add:\"))\n",
    "for i in range(0,n):\n",
    "    val = eval(input(\"Enter the elements:\"))\n",
    "    lst.append(val)\n",
    "print(\"The list created:\", lst)\n",
    "for i in range(0,len(lst)):\n",
    "    if (lst[i] % 3 == 0):\n",
    "        lst.remove(lst[i])\n",
    "print(\"The list created:\", lst)\n",
    "    "
   ]
  },
  {
   "cell_type": "code",
   "execution_count": 2,
   "id": "6484752d",
   "metadata": {},
   "outputs": [
    {
     "name": "stdout",
     "output_type": "stream",
     "text": [
      "Enter number of students:4\n",
      "Enter marks of Student 1 :\n",
      "45\n",
      "Enter marks of Student 2 :\n",
      "78\n",
      "Enter marks of Student 3 :\n",
      "49\n",
      "Enter marks of Student 4 :\n",
      "34\n",
      "[45, 78, 49, 34]\n",
      "The average marks is: 51.5\n"
     ]
    }
   ],
   "source": [
    "# program to calculate average marks of n students using a function where n is entered by user\n",
    "\n",
    "lst = []\n",
    "n = int(input(\"Enter number of students:\"))\n",
    "for i in range(0,n):\n",
    "    print(\"Enter marks of Student\",(i+1),\":\")\n",
    "    marks = int(input())\n",
    "    lst.append(marks)\n",
    "print(lst)\n",
    "sum = 0\n",
    "for i in range(0,len(lst)):\n",
    "    sum = sum + lst[i]\n",
    "average = (sum/len(lst))\n",
    "print(\"The average marks is:\", average)"
   ]
  },
  {
   "cell_type": "code",
   "execution_count": 7,
   "id": "2e2f4c9b",
   "metadata": {},
   "outputs": [
    {
     "name": "stdout",
     "output_type": "stream",
     "text": [
      "Enter how many elements you want to add:3\n",
      "Enter elements of the list:4\n",
      "Enter elements of the list:5\n",
      "Enter elements of the list:2\n",
      "[4, 5, 2]\n",
      "[4, 5, 2, 4, 5]\n"
     ]
    }
   ],
   "source": [
    "# program to sort a list without using sort function\n",
    "\n",
    "lst = []\n",
    "n = int(input(\"Enter how many elements you want to add:\"))\n",
    "for i in range(0,n):\n",
    "    value = int(input(\"Enter elements of the list:\"))\n",
    "    lst.append(value)\n",
    "print(lst)\n",
    "sum = 0\n",
    "for i in range(0,len(lst)):\n",
    "    if lst[i] > sum:\n",
    "        sum = lst[i]\n",
    "        lst.append(sum)\n",
    "print(lst)\n",
    "\n",
    "# not solved"
   ]
  },
  {
   "cell_type": "code",
   "execution_count": 14,
   "id": "4cadb001",
   "metadata": {},
   "outputs": [
    {
     "name": "stdout",
     "output_type": "stream",
     "text": [
      "Enter how many elements you want to add:3\n",
      "Enter elements of your choice:1\n",
      "Enter elements of your choice:2\n",
      "Enter elements of your choice:3\n",
      "The list created is: [1, 2, 3]\n",
      "The median is 2\n",
      "The median is 2\n",
      "The median is 2\n"
     ]
    }
   ],
   "source": [
    "# to find the median:\n",
    "\n",
    "lst = []\n",
    "n = int(input(\"Enter how many elements you want to add:\"))\n",
    "for i in range(0,n):\n",
    "    values = int(input(\"Enter elements of your choice:\"))\n",
    "    lst.append(values)\n",
    "print(\"The list created is:\", lst)\n",
    "lst.sort(reverse = False)\n",
    "for i in range(0,len(lst)):\n",
    "    if (len(lst)%2 != 0):\n",
    "        med = (len(lst) / 2)\n",
    "\n",
    "        med = int(med)\n",
    "print(lst[med])\n",
    "        "
   ]
  },
  {
   "cell_type": "code",
   "execution_count": 1,
   "id": "a528358d",
   "metadata": {},
   "outputs": [
    {
     "name": "stdout",
     "output_type": "stream",
     "text": [
      "Enter how many numbers you want to add:6\n",
      "Enter numbers:15\n",
      "Enter numbers:26\n",
      "Enter numbers:37\n",
      "Enter numbers:10\n",
      "Enter numbers:22\n",
      "Enter numbers:13\n",
      "The created list is: [15, 26, 37, 10, 22, 13]\n",
      "Sum of odd numbers= 65 \n",
      "Sum of even numbers= 58\n"
     ]
    }
   ],
   "source": [
    "# to find the number of even and odd numbers in the list:\n",
    "\n",
    "lst=[]\n",
    "n = int(input(\"Enter how many numbers you want to add:\"))\n",
    "for i in range(0,n):\n",
    "    values = int(input(\"Enter numbers:\"))\n",
    "    lst.append(values)\n",
    "print(\"The created list is:\", lst)\n",
    "elst, olst = 0,0\n",
    "for i in range(0,len(lst)):\n",
    "    if (lst[i] % 2 == 0):\n",
    "        elst = elst+lst[i]\n",
    "    else:\n",
    "        olst = olst + lst[i]\n",
    "print(\"Sum of odd numbers=\",olst,\"\\nSum of even numbers=\",elst)"
   ]
  },
  {
   "cell_type": "code",
   "execution_count": null,
   "id": "0903bbfe",
   "metadata": {},
   "outputs": [],
   "source": [
    "# Write a program in python to input a text from the user \n",
    "# and display the no. of occurrence of each alphabet \n",
    "# irrespective of case present in it by using a dictionary\n",
    "\n"
   ]
  },
  {
   "cell_type": "code",
   "execution_count": null,
   "id": "0a2acdbe",
   "metadata": {},
   "outputs": [],
   "source": [
    "# To find smallest value among the user entered list:\n",
    "\n",
    "lst = []\n",
    "n = int(input(\"Enter how many elements you want to add:\"))\n",
    "for i in range(0,n):\n",
    "    values = int(input(\"Enter values of the list:\"))\n",
    "    lst.append(values)\n",
    "print(\"The user created list is:\",lst)\n",
    "num = lst[0]\n",
    "for i in range(0,n):\n",
    "    if lst[i] < num:\n",
    "        num = lst[i]\n",
    "print(\"The smallest number is:\",num)\n",
    "    "
   ]
  },
  {
   "cell_type": "code",
   "execution_count": 2,
   "id": "6a1b6af3",
   "metadata": {},
   "outputs": [
    {
     "name": "stdout",
     "output_type": "stream",
     "text": [
      "Enter how many elements you want to add:6\n",
      "Enter the elements of the list:2\n",
      "Enter the elements of the list:1\n",
      "Enter the elements of the list:2\n",
      "Enter the elements of the list:5\n",
      "Enter the elements of the list:3\n",
      "Enter the elements of the list:4\n",
      "The list created is: [2, 1, 2, 5, 3, 4]\n",
      "Enter number to check:54\n",
      "Item not found\n"
     ]
    }
   ],
   "source": [
    "# Linear Search:\n",
    "\n",
    "lst = []\n",
    "n = eval(input(\"Enter how many elements you want to add:\"))\n",
    "for i in range(0,n):\n",
    "    val = int(input(\"Enter the elements of the list:\"))\n",
    "    lst.append(val)\n",
    "print(\"The list created is:\", lst)\n",
    "check = int(input(\"Enter number to check:\"))\n",
    "flag = 0\n",
    "for i in range(n):\n",
    "    if lst[i] == check:\n",
    "        flag = 1\n",
    "        print(\"The index is\",i)\n",
    "    else:\n",
    "        flag = flag -1\n",
    "if flag < 0:\n",
    "    print(\"Item not found\")\n",
    "else:\n",
    "    pass\n"
   ]
  },
  {
   "cell_type": "code",
   "execution_count": 7,
   "id": "2776523a",
   "metadata": {},
   "outputs": [
    {
     "name": "stdout",
     "output_type": "stream",
     "text": [
      "(1, 2) ((1, 2),)\n"
     ]
    }
   ],
   "source": [
    "a = 1,2\n",
    "\n",
    "tup = (a)\n",
    "tup2 = (a,)\n",
    "print(tup,tup2)"
   ]
  },
  {
   "cell_type": "code",
   "execution_count": 11,
   "id": "741bae83",
   "metadata": {},
   "outputs": [
    {
     "name": "stdout",
     "output_type": "stream",
     "text": [
      "Dictionary Contents\n",
      "5 : numbernumbernumbernumber\n",
      "a : stringstringstringstring\n",
      "(1, 2) : tupletupletupletuple\n"
     ]
    }
   ],
   "source": [
    "d1={5:\"number\",\"a\":\"string\", (1,2):\"tuple\"}\n",
    "print (\"Dictionary Contents\")\n",
    "for x in d1.keys(): #iterates on a key list\n",
    " print (x,\":\",d1[x], end=\"\")\n",
    " print(d1[x]*3)"
   ]
  },
  {
   "cell_type": "code",
   "execution_count": 12,
   "id": "c14849a3",
   "metadata": {},
   "outputs": [
    {
     "name": "stdout",
     "output_type": "stream",
     "text": [
      "['p', 'r', 'b', 'l', 'e', 'm']\n",
      "['p', 'r', 'm']\n",
      "['m', 'r', 'p']\n"
     ]
    }
   ],
   "source": [
    "sohan_list=['p','r','o','b','l','e','m']\n",
    "sohan_list[2:3]=[]\n",
    "print(sohan_list)\n",
    "sohan_list[2:5]=[]\n",
    "print(sohan_list)\n",
    "print(sohan_list[::-1])\n"
   ]
  },
  {
   "cell_type": "code",
   "execution_count": 3,
   "id": "57369bf7",
   "metadata": {},
   "outputs": [
    {
     "name": "stdout",
     "output_type": "stream",
     "text": [
      "(60, 20, 40, 50, 30, 10)\n",
      "(10, 50, 20)\n"
     ]
    }
   ],
   "source": [
    "TUP=(10,30,50,40,20,60)\n",
    "print(TUP[::-1])\n",
    "print(TUP[::2])"
   ]
  },
  {
   "cell_type": "code",
   "execution_count": null,
   "id": "8931b4a5",
   "metadata": {},
   "outputs": [],
   "source": [
    "# program to find sum of list:"
   ]
  }
 ],
 "metadata": {
  "kernelspec": {
   "display_name": "Python 3 (ipykernel)",
   "language": "python",
   "name": "python3"
  },
  "language_info": {
   "codemirror_mode": {
    "name": "ipython",
    "version": 3
   },
   "file_extension": ".py",
   "mimetype": "text/x-python",
   "name": "python",
   "nbconvert_exporter": "python",
   "pygments_lexer": "ipython3",
   "version": "3.9.12"
  },
  "widgets": {
   "application/vnd.jupyter.widget-state+json": {
    "state": {},
    "version_major": 2,
    "version_minor": 0
   }
  }
 },
 "nbformat": 4,
 "nbformat_minor": 5
}
