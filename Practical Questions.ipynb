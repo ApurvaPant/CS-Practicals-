{
 "cells": [
  {
   "cell_type": "code",
   "execution_count": 19,
   "id": "d0630f78",
   "metadata": {},
   "outputs": [
    {
     "name": "stdout",
     "output_type": "stream",
     "text": [
      "Enter any number:2\n",
      "Enter anu number:2\n",
      "None\n"
     ]
    }
   ],
   "source": [
    "# 1 Write a program in python to check a number whether it is prime or not.\n",
    "\n",
    "num = int(input(\"Enter number:\"))\n",
    "flag = None\n",
    "for i in range(2,num):\n",
    "    if num == 2:\n",
    "        flag = True\n",
    "    elif num % i == 0:\n",
    "        flag = False\n",
    "        break\n",
    "    else:\n",
    "        flag = True\n",
    "if flag == True:\n",
    "    print(num,\"is prime number\")\n",
    "else:\n",
    "    print(num,\"is not prime number, please try with another number\")"
   ]
  },
  {
   "cell_type": "code",
   "execution_count": 4,
   "id": "d3787681",
   "metadata": {},
   "outputs": [
    {
     "name": "stdout",
     "output_type": "stream",
     "text": [
      "Enter number:676\n",
      "The number is a palindrome!\n",
      "Enter number:676\n",
      "The number is a palindrome!\n"
     ]
    }
   ],
   "source": [
    "# Write a program to check a number whether it is palindrome or not.\n",
    "\n",
    "n=int(input(\"Enter number:\"))\n",
    "temp=n\n",
    "rev=0\n",
    "while(n>0):\n",
    "    dig=n%10\n",
    "    rev=rev*10+dig\n",
    "    n=n//10\n",
    "if(temp==rev):\n",
    "    print(\"The number is a palindrome!\")\n",
    "else:\n",
    "    print(\"The number isn't a palindrome!\")\n",
    "\n",
    "# or\n",
    "\n",
    "n = int(input(\"Enter number:\"))\n",
    "s = str(n)\n",
    "s = s[::-1]\n",
    "if int(s) == n:\n",
    "    print(\"The number is a palindrome!\")\n",
    "else:\n",
    "    print(\"The number isn't a palindrome!\")"
   ]
  },
  {
   "cell_type": "code",
   "execution_count": 11,
   "id": "d411289c",
   "metadata": {},
   "outputs": [
    {
     "name": "stdout",
     "output_type": "stream",
     "text": [
      "To display the ascci code of a character enter 1\n",
      "To display the chracter of ascci code enter 2\n",
      "Enter your option:1\n",
      "Enter your character you want to get ascci code of:&\n",
      "ASCCI code of given character is: 38\n"
     ]
    }
   ],
   "source": [
    "# Write a program to display ASCII code of a character and vice versa.\n",
    "\n",
    "print(\"To display the ascci code of a character enter 1\")\n",
    "print(\"To display the chracter of ascci code enter 2\")\n",
    "opt = int(input(\"Enter your option:\"))\n",
    "if opt == 1:\n",
    "    character = input(\"Enter your character you want to get ascci code of:\")\n",
    "    print(\"ASCCI code of given character is:\",ord(character))\n",
    "elif opt == 2:\n",
    "    ascci = int(input(\"Enter assci code of character you want to display of:\"))\n",
    "    print(\"Character of given assci code is:\",chr(ascci))\n",
    "else:\n",
    "    print(\"Invalid input\")"
   ]
  },
  {
   "cell_type": "code",
   "execution_count": 18,
   "id": "c5c90bb1",
   "metadata": {},
   "outputs": [
    {
     "name": "stdout",
     "output_type": "stream",
     "text": [
      "Enter your lottery number:5\n",
      "Lottery winner user number = 4\n",
      "Sorry you didn't win the lottery \n",
      "Try again next time\n"
     ]
    }
   ],
   "source": [
    "# Write a program to generate random numbers between 1 to 6 and check whether a user won a lottery or not.\n",
    "\n",
    "import random as r\n",
    "\n",
    "num = r.randint(1,6)\n",
    "lotteryno = int(input(\"Enter your lottery number:\"))\n",
    "if num == lotteryno:\n",
    "    print(\"Lottery winner user number =\",num)\n",
    "    print(\"Congratulations you won lotetery!!!\")\n",
    "else:\n",
    "    print(\"Lottery winner user number =\",num)\n",
    "    print(\"Sorry you didn't win the lottery \\nTry again next time\")"
   ]
  },
  {
   "cell_type": "code",
   "execution_count": 21,
   "id": "65c6179b",
   "metadata": {},
   "outputs": [
    {
     "name": "stdout",
     "output_type": "stream",
     "text": [
      "Number of vowels letters in text file = 167\n"
     ]
    }
   ],
   "source": [
    "# Write a program to count the number of vowels present in a text file.\n",
    "\n",
    "file = open(\"github1.txt\",\"w+\")\n",
    "file.write(\"Lorem ipsum dolor sit amet, consectetur adipiscing elit, sed do eiusmod tempor incididunt ut labore et dolore magna aliqua. Ut enim ad minim veniam, quis nostrud exercitation ullamco laboris nisi ut aliquip ex ea commodo consequat. Duis aute irure dolor in reprehenderit in voluptate velit esse cillum dolore eu fugiat nulla pariatur. Excepteur sint occaecat cupidatat non proident, sunt in culpa qui officia deserunt mollit anim id est laborum.\")\n",
    "file.seek(0)\n",
    "vowels = 0\n",
    "s = file.read()\n",
    "for i in s:\n",
    "    if i.lower() in ('a','e','i','o','u'):\n",
    "        vowels += 1\n",
    "    else:\n",
    "        pass\n",
    "print(\"Number of vowels letters in text file =\",vowels)"
   ]
  },
  {
   "cell_type": "code",
   "execution_count": 28,
   "id": "c7219df2",
   "metadata": {},
   "outputs": [
    {
     "name": "stdout",
     "output_type": "stream",
     "text": [
      "Number of words = 17\n"
     ]
    }
   ],
   "source": [
    "# Write a program to count number of words in a file.\n",
    "\n",
    "file = open(\"practical4.txt\",\"r\")\n",
    "count = 0\n",
    "s = file.read()\n",
    "words = s.split()\n",
    "for i in range(len(words)):\n",
    "    count += 1\n",
    "print(\"Number of words =\",count)"
   ]
  },
  {
   "cell_type": "code",
   "execution_count": null,
   "id": "a417e417",
   "metadata": {},
   "outputs": [],
   "source": [
    "# Write a python program to write student data in a binary file.\n",
    "\n",
    "import pickle\n",
    "file = open(\"practical5.dat\",\"wb\")\n",
    "di = {}\n",
    "flag = \"y\"\n",
    "while flag.lower() == \"y\":\n",
    "    name = input(\"Enter name of the student:\")\n",
    "    class_ = int(input(\"Enter class of the student:\"))\n",
    "    roll = int(input(\"Enter roll number of the student:\"))\n",
    "    marks = int(input(\"Enter marks of the student:\"))\n",
    "    di[name] = (class_,roll,marks)\n",
    "    flag = input(\"Enter do want to continue (enter y/n):\")\n",
    "pickle.dump(di,file)\n",
    "file.close()  \n"
   ]
  },
  {
   "cell_type": "code",
   "execution_count": null,
   "id": "2662cbaf",
   "metadata": {},
   "outputs": [],
   "source": [
    "# Write a python program to read student data from a binary file.\n",
    "\n",
    "import pickle\n",
    "file = open(\"practical5.dat\",\"rb\")\n",
    "s = pickle.load(file)\n",
    "print(\"Student Data:\")\n",
    "for name in di:\n",
    "    print(\"_________________\")\n",
    "    print(\"Name:\",name)\n",
    "    print(\"Class:\",di[name][0])\n",
    "    print(\"Roll No:\",di[name][1])\n",
    "    print(\"Marks:\",di[name][2])\n",
    "    print(\"_________________\")\n",
    "file.close()"
   ]
  },
  {
   "cell_type": "code",
   "execution_count": 2,
   "id": "149786f4",
   "metadata": {},
   "outputs": [
    {
     "name": "stdout",
     "output_type": "stream",
     "text": [
      "----------------------\n",
      "To push enter 1:\n",
      "To pop enter 2:\n",
      "To peek enter 3:\n",
      "To display enter 4:\n",
      "To know the size of the stack enter 5:\n",
      "To check if stack is empty or not enter 6:\n",
      "Enter 7 to exit:\n",
      "----------------------\n",
      "Enter your choice1\n",
      "Enter element to push:2\n",
      "Enter your choice1\n",
      "Enter element to push:3\n",
      "Enter your choice1\n",
      "Enter element to push:4\n",
      "Enter your choice2\n",
      "The poped item is: 4\n",
      "Enter your choice3\n",
      "The top item is: 3\n",
      "Enter your choice4\n",
      "The element(s) of the stack is:\n",
      "3\n",
      "2\n",
      "Enter your choice5\n",
      "The size of the stack is: 2\n",
      "Enter your choice6\n",
      "Stack is not empty\n",
      "Enter your choice7\n"
     ]
    }
   ],
   "source": [
    "# Menu based program to perform stack operations:\n",
    "\n",
    "\n",
    "stack = []\n",
    "\n",
    "def isEmpty(stack):\n",
    "    if len(stack) == 0:\n",
    "        return True\n",
    "    else:\n",
    "        return False\n",
    "\n",
    "def push(element,stack):\n",
    "    stack.append(element)\n",
    "\n",
    "def Pop(stack):\n",
    "    if isEmpty(stack):\n",
    "        print(\"Underflow\")\n",
    "        return None\n",
    "    else:\n",
    "        element = stack.pop()\n",
    "        return element\n",
    "\n",
    "def size(stack):\n",
    "    return len(stack)\n",
    "\n",
    "def peek(stack):\n",
    "    if isEmpty(stack):\n",
    "        print(\"Stack is empty\")\n",
    "        return None\n",
    "    else:\n",
    "        element = stack[len(stack)-1]\n",
    "        return element\n",
    "\n",
    "def display(stack):\n",
    "    if isEmpty(stack):\n",
    "        print(\"Stack is empty\")\n",
    "    else:\n",
    "        print(\"The element(s) of the stack is:\")\n",
    "        for i in range(len(stack)-1,-1,-1):\n",
    "            print(stack[i])\n",
    "\n",
    "print(\"----------------------\")\n",
    "print(\"To push enter 1:\")\n",
    "print(\"To pop enter 2:\")\n",
    "print(\"To peek enter 3:\")\n",
    "print(\"To display enter 4:\")\n",
    "print(\"To know the size of the stack enter 5:\")\n",
    "print(\"To check if stack is empty or not enter 6:\")\n",
    "print(\"Enter 7 to exit:\")\n",
    "print(\"----------------------\")\n",
    "while True:\n",
    "    opt = int(input(\"Enter your choice\"))\n",
    "    if opt == 1:\n",
    "        element = int(input(\"Enter element to push:\"))\n",
    "        push(element,stack)\n",
    "    elif opt == 2:\n",
    "        print(\"The poped item is:\",Pop(stack))\n",
    "    elif opt == 3:\n",
    "        print(\"The top item is:\",peek(stack))\n",
    "    elif opt == 4:\n",
    "        display(stack)\n",
    "    elif opt == 5:\n",
    "        print(\"The size of the stack is:\",size(stack))\n",
    "    elif opt == 6:\n",
    "        ot = isEmpty(stack)\n",
    "        if ot == True:\n",
    "            print(\"Stack is empty\")\n",
    "        else:\n",
    "            print(\"Stack is not empty\")\n",
    "    elif opt == 7:\n",
    "        break\n",
    "    else:\n",
    "        print(\"Invalid input\")"
   ]
  },
  {
   "cell_type": "code",
   "execution_count": 4,
   "id": "910ece86",
   "metadata": {},
   "outputs": [
    {
     "name": "stdout",
     "output_type": "stream",
     "text": [
      "Enter number of elements to append in the list:5\n",
      "Enter number you want to append in list:1\n",
      "Enter number you want to append in list:2\n",
      "Enter number you want to append in list:3\n",
      "Enter number you want to append in list:2\n",
      "Enter number you want to append in list:5\n",
      "The list created is: [1, 2, 3, 2, 5]\n",
      "Enter elemenet you want to search:2\n",
      "The item is present 2 time(s)\n",
      "In following indexes:\n",
      "1\n",
      "3\n"
     ]
    }
   ],
   "source": [
    "# Write a program for linear search.\n",
    "\n",
    "li = []\n",
    "n = int(input(\"Enter number of elements to append in the list:\"))\n",
    "for i in range(n):\n",
    "    num = int(input(\"Enter number you want to append in list:\"))\n",
    "    li.append(num)\n",
    "print(\"The list created is:\",li)\n",
    "search = int(input(\"Enter elemenet you want to search:\"))\n",
    "fre = 0\n",
    "loc = []\n",
    "for i in range(len(li)):\n",
    "    if search == li[i]:\n",
    "        fre += 1\n",
    "        loc.append(i)\n",
    "    else:\n",
    "        pass\n",
    "print(\"The item is present\",fre,\"time(s)\")\n",
    "print(\"In following indexes:\")\n",
    "for i in loc:\n",
    "    print(i)"
   ]
  },
  {
   "cell_type": "code",
   "execution_count": null,
   "id": "b09c747a",
   "metadata": {},
   "outputs": [],
   "source": [
    "# Write a program to connect Python with MySQL using database connectivity and perform the following \n",
    "# operation on data in database: Create a table in database"
   ]
  }
 ],
 "metadata": {
  "kernelspec": {
   "display_name": "Python 3 (ipykernel)",
   "language": "python",
   "name": "python3"
  },
  "language_info": {
   "codemirror_mode": {
    "name": "ipython",
    "version": 3
   },
   "file_extension": ".py",
   "mimetype": "text/x-python",
   "name": "python",
   "nbconvert_exporter": "python",
   "pygments_lexer": "ipython3",
   "version": "3.9.12"
  }
 },
 "nbformat": 4,
 "nbformat_minor": 5
}
