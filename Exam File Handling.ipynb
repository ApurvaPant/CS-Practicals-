{
 "cells": [
  {
   "cell_type": "code",
   "execution_count": 1,
   "id": "47cf9110",
   "metadata": {},
   "outputs": [
    {
     "name": "stdout",
     "output_type": "stream",
     "text": [
      "Number of lines in the following file is: 3\n"
     ]
    }
   ],
   "source": [
    "# To count number of lines in a text file:\n",
    "\n",
    "file = open(\"ME1.txt\",\"w+\")\n",
    "file.write(\"Hello Everyone \\nHey \\nBye\")\n",
    "file.seek(0)\n",
    "s = file.readlines()\n",
    "nol = len(s)\n",
    "print(\"Number of lines in the following file is:\",nol)"
   ]
  },
  {
   "cell_type": "code",
   "execution_count": 2,
   "id": "dce0b772",
   "metadata": {},
   "outputs": [
    {
     "name": "stdout",
     "output_type": "stream",
     "text": [
      "Enter text you want to write in the file:Hello everyone /nHow are you\n",
      "Enter letter you want to:H\n",
      "Number of lines that begin with letter H is: 1\n"
     ]
    }
   ],
   "source": [
    "# To count number of lines that start with any alphabet that user inputs:\n",
    "\n",
    "def nol(text,letter):\n",
    "    file = open(\"MT2.txt\",\"w+\")\n",
    "    file.write(text)\n",
    "    file.seek(0)\n",
    "    s = file.readlines()\n",
    "    count = 0\n",
    "    for i in s:\n",
    "        if i[0] == letter:\n",
    "            count += 1\n",
    "        else:\n",
    "            pass\n",
    "    print(\"Number of lines that begin with letter\",letter,\"is:\",count)\n",
    "t = input(\"Enter text you want to write in the file:\")\n",
    "l = input(\"Enter letter you want to:\")\n",
    "nol(t,l)"
   ]
  },
  {
   "cell_type": "code",
   "execution_count": 9,
   "id": "6abece4a",
   "metadata": {},
   "outputs": [
    {
     "name": "stdout",
     "output_type": "stream",
     "text": [
      "Name : Apurva Pant \n",
      "Father's Name : Nagendra Pant \n",
      "Mother's Name : Bimala Pant \n",
      "Brother's name : Abhinav Pant\n"
     ]
    }
   ],
   "source": [
    "# Create a file with your family details and read the file:\n",
    "\n",
    "def read():\n",
    "    file = open(\"ME3.txt\",\"w+\")\n",
    "    file.write(\"Name : Apurva Pant \\nFather's Name : Nagendra Pant \\nMother's Name : Bimala Pant \\nBrother's name : Abhinav Pant\")\n",
    "    file.seek(0)\n",
    "    f = file.read()\n",
    "    print(f)\n",
    "    file.close()\n",
    "read()"
   ]
  },
  {
   "cell_type": "code",
   "execution_count": 11,
   "id": "d7d18d2c",
   "metadata": {},
   "outputs": [
    {
     "name": "stdout",
     "output_type": "stream",
     "text": [
      "Number of digits = 0 \n",
      "Number of vowels = 30 \n",
      "Number of consonants = 51 \n",
      "Number of spaces = 18 \n",
      "Number of special characters = 10\n"
     ]
    }
   ],
   "source": [
    "# To find number of vowels, consonants, digits, spaces and special characters in text file:\n",
    "\n",
    "def count():\n",
    "    file = open(\"ME3.txt\",\"r\")\n",
    "    s = file.read()\n",
    "    vowels,consonants,digits,spaces,sc = 0,0,0,0,0\n",
    "    for i in s:\n",
    "        if i.isalpha():\n",
    "            i = i.lower()\n",
    "            if i in (\"a\",\"e\",\"i\",\"o\",\"u\"):\n",
    "                vowels += 1\n",
    "            else:\n",
    "                consonants += 1\n",
    "        elif i == \" \":\n",
    "            spaces += 1\n",
    "        elif i.isdigit():\n",
    "            digits += 1\n",
    "        else:\n",
    "            sc += 1\n",
    "    print(\"Number of digits =\",digits,\"\\nNumber of vowels =\",vowels,\"\\nNumber of consonants =\",consonants,\"\\nNumber of spaces =\",spaces,\"\\nNumber of special characters =\",sc)\n",
    "count()"
   ]
  },
  {
   "cell_type": "code",
   "execution_count": 3,
   "id": "ae4fa0b7",
   "metadata": {},
   "outputs": [
    {
     "name": "stdout",
     "output_type": "stream",
     "text": [
      "nAME : aPURVA pANT \n",
      "fATHER'S nAME : nAGENDRA pANT \n",
      "mOTHER'S nAME : bIMALA pANT \n",
      "bROTHER'S NAME : aBHINAV pANT\n"
     ]
    }
   ],
   "source": [
    "# To convert lower cases letters in upper case and upper case letters into lower case:\n",
    "\n",
    "def convert():\n",
    "    file = open(\"ME3.txt\",\"r+\")\n",
    "    m = \"\"\n",
    "    st = file.read()\n",
    "    for i in st:\n",
    "        if i.islower():\n",
    "            m = m + i.upper()\n",
    "        else:\n",
    "            m = m + i.lower()\n",
    "    file.seek(0)\n",
    "    file.write(m)\n",
    "    file.seek(0)\n",
    "    print(file.read())\n",
    "    file.close()\n",
    "convert()"
   ]
  },
  {
   "cell_type": "code",
   "execution_count": 15,
   "id": "08a6c8be",
   "metadata": {},
   "outputs": [
    {
     "name": "stdout",
     "output_type": "stream",
     "text": [
      "Enter number of elements you want to add in the list:5\n",
      "Enter element:1\n",
      "Enter element:2\n",
      "Enter element:3\n",
      "Enter element:4\n",
      "Enter element:1\n",
      "The list created is: [1, 2, 3, 4, 1]\n",
      "Enter elemenet you want to search:1\n",
      "1 is present 2 times\n",
      "In index number: 0\n",
      "In index number: 4\n"
     ]
    }
   ],
   "source": [
    "# Write a function counitmy() in Python to read the text file\"DATA.txt\" and count the number of times 'I' and 'my' occurs in\n",
    "# the file"
   ]
  },
  {
   "cell_type": "code",
   "execution_count": 33,
   "id": "7529ec3c",
   "metadata": {},
   "outputs": [
    {
     "name": "stdout",
     "output_type": "stream",
     "text": [
      "This is my website. I have displayed my preferences in the CHOICE section.\n",
      "In the following file 'I' and 'my' occur 2 0 times\n"
     ]
    }
   ],
   "source": [
    "# Write a function counitmy() in Python to read the text file\"DATA.txt\" and count the number of times 'I' and 'my' occurs in the file:\n",
    "\n",
    "def countimy():\n",
    "    file = open(\"DATA.txt\",\"w+\")\n",
    "    file.write(\"This is my website. I have displayed my preferences in the CHOICE section.\")\n",
    "    file.seek(0)\n",
    "    s = file.read()\n",
    "    print(s)\n",
    "    n = 0\n",
    "    n1 = 0\n",
    "    for i in s:\n",
    "        if i == \"I\":\n",
    "            n += 1\n",
    "        elif i == \"my\":\n",
    "            n1 += 1\n",
    "        else:\n",
    "            pass\n",
    "    print(\"In the following file 'I' and 'my' occur\",n,n1,\"times\")\n",
    "countimy()"
   ]
  },
  {
   "cell_type": "code",
   "execution_count": 45,
   "id": "36766f40",
   "metadata": {},
   "outputs": [
    {
     "ename": "AttributeError",
     "evalue": "'_io.TextIOWrapper' object has no attribute 'dump'",
     "output_type": "error",
     "traceback": [
      "\u001b[1;31m---------------------------------------------------------------------------\u001b[0m",
      "\u001b[1;31mAttributeError\u001b[0m                            Traceback (most recent call last)",
      "Input \u001b[1;32mIn [45]\u001b[0m, in \u001b[0;36m<cell line: 10>\u001b[1;34m()\u001b[0m\n\u001b[0;32m      8\u001b[0m     file\u001b[38;5;241m.\u001b[39mdump(d,file)\n\u001b[0;32m      9\u001b[0m     file\u001b[38;5;241m.\u001b[39mclose()\n\u001b[1;32m---> 10\u001b[0m \u001b[43mwrite\u001b[49m\u001b[43m(\u001b[49m\u001b[43m)\u001b[49m\n",
      "Input \u001b[1;32mIn [45]\u001b[0m, in \u001b[0;36mwrite\u001b[1;34m()\u001b[0m\n\u001b[0;32m      6\u001b[0m file \u001b[38;5;241m=\u001b[39m \u001b[38;5;28mopen\u001b[39m(\u001b[38;5;124m\"\u001b[39m\u001b[38;5;124mExamprac1.bin\u001b[39m\u001b[38;5;124m\"\u001b[39m,\u001b[38;5;124m\"\u001b[39m\u001b[38;5;124mw+\u001b[39m\u001b[38;5;124m\"\u001b[39m)\n\u001b[0;32m      7\u001b[0m d \u001b[38;5;241m=\u001b[39m {\u001b[38;5;241m1\u001b[39m : \u001b[38;5;124m\"\u001b[39m\u001b[38;5;124mAmit\u001b[39m\u001b[38;5;124m\"\u001b[39m, \u001b[38;5;241m2\u001b[39m : \u001b[38;5;124m\"\u001b[39m\u001b[38;5;124mSumit\u001b[39m\u001b[38;5;124m\"\u001b[39m, \u001b[38;5;241m3\u001b[39m : \u001b[38;5;124m\"\u001b[39m\u001b[38;5;124mNaina\u001b[39m\u001b[38;5;124m\"\u001b[39m}\n\u001b[1;32m----> 8\u001b[0m \u001b[43mfile\u001b[49m\u001b[38;5;241;43m.\u001b[39;49m\u001b[43mdump\u001b[49m(d,file)\n\u001b[0;32m      9\u001b[0m file\u001b[38;5;241m.\u001b[39mclose()\n",
      "\u001b[1;31mAttributeError\u001b[0m: '_io.TextIOWrapper' object has no attribute 'dump'"
     ]
    }
   ],
   "source": [
    "# 1.\tWrite a program to write the following dictionary in a binary file.\n",
    "        #   d = {1 : \"Amit\", 2 : \"Sumit\", 3 : \"Naina\"}\n",
    "\n",
    "import pickle\n",
    "def write():\n",
    "    file = open(\"Examprac1.bin\",\"w+\")\n",
    "    d = {1 : \"Amit\", 2 : \"Sumit\", 3 : \"Naina\"}\n",
    "    file.dump(d,file)\n",
    "    file.close()\n",
    "write()"
   ]
  },
  {
   "cell_type": "code",
   "execution_count": 9,
   "id": "555ebde0",
   "metadata": {},
   "outputs": [
    {
     "name": "stdout",
     "output_type": "stream",
     "text": [
      "Enter name of the employee:sdfsfd\n",
      "Enter employee number:2\n",
      "Enter do you want to continue (enter 'y' to continuen\n"
     ]
    }
   ],
   "source": [
    "# 3.\tWrite a function empadd() which will add a record of employee in a binary file “data.dat” using list. Data to be add include employee name, employee number. Also write a function empread() which will read all the records from the file.\n",
    "\n",
    "import pickle\n",
    "def empadd():\n",
    "    file = open(\"data.dat\",\"r+\")\n",
    "    ans = \"y\"\n",
    "    employee = []\n",
    "    while ans.lower() == \"y\":\n",
    "        name = input(\"Enter name of the employee:\")\n",
    "        number = int(input(\"Enter employee number:\"))\n",
    "        temp = [name,number]\n",
    "        employee.append(temp)\n",
    "        ans = input(\"Enter do you want to continue (enter 'y' to continue\")\n",
    "    pickle.dump(employee,file)\n",
    "    file.close()\n",
    "empadd()"
   ]
  },
  {
   "cell_type": "code",
   "execution_count": 10,
   "id": "0c275214",
   "metadata": {},
   "outputs": [
    {
     "name": "stdout",
     "output_type": "stream",
     "text": [
      "Employee name \tEmployee number\n",
      "dsfsd \t\t 2\n"
     ]
    }
   ],
   "source": [
    "# To read the file created:\n",
    "\n",
    "def empread():\n",
    "    file = open(\"data.dat\",\"rb+\")\n",
    "    s = pickle.load(file)\n",
    "    print(\"Employee name\",\"\\tEmployee number\")\n",
    "    for i in s:\n",
    "        print(i[0],\"\\t\\t\",i[1])\n",
    "    file.close()\n",
    "empread()"
   ]
  },
  {
   "cell_type": "code",
   "execution_count": 14,
   "id": "915fc46c",
   "metadata": {},
   "outputs": [
    {
     "name": "stdout",
     "output_type": "stream",
     "text": [
      "Enter name of the teacher:sdfsd\n",
      "Enter id of the teacher:213\n",
      "Enter department number of the teacher:543\n",
      "Enter salary of the teacher:234\n"
     ]
    },
    {
     "ename": "TypeError",
     "evalue": "write() argument must be str, not bytes",
     "output_type": "error",
     "traceback": [
      "\u001b[1;31m---------------------------------------------------------------------------\u001b[0m",
      "\u001b[1;31mTypeError\u001b[0m                                 Traceback (most recent call last)",
      "Input \u001b[1;32mIn [14]\u001b[0m, in \u001b[0;36m<cell line: 14>\u001b[1;34m()\u001b[0m\n\u001b[0;32m     12\u001b[0m     d \u001b[38;5;241m=\u001b[39m pickle\u001b[38;5;241m.\u001b[39mdump(teacher,file)\n\u001b[0;32m     13\u001b[0m     file\u001b[38;5;241m.\u001b[39mclose()\n\u001b[1;32m---> 14\u001b[0m \u001b[43maddrecord\u001b[49m\u001b[43m(\u001b[49m\u001b[43m)\u001b[49m\n",
      "Input \u001b[1;32mIn [14]\u001b[0m, in \u001b[0;36maddrecord\u001b[1;34m()\u001b[0m\n\u001b[0;32m     10\u001b[0m teacher \u001b[38;5;241m=\u001b[39m [name,tid,dept,salary]\n\u001b[0;32m     11\u001b[0m \u001b[38;5;28;01mimport\u001b[39;00m \u001b[38;5;21;01mpickle\u001b[39;00m\n\u001b[1;32m---> 12\u001b[0m d \u001b[38;5;241m=\u001b[39m \u001b[43mpickle\u001b[49m\u001b[38;5;241;43m.\u001b[39;49m\u001b[43mdump\u001b[49m\u001b[43m(\u001b[49m\u001b[43mteacher\u001b[49m\u001b[43m,\u001b[49m\u001b[43mfile\u001b[49m\u001b[43m)\u001b[49m\n\u001b[0;32m     13\u001b[0m file\u001b[38;5;241m.\u001b[39mclose()\n",
      "\u001b[1;31mTypeError\u001b[0m: write() argument must be str, not bytes"
     ]
    }
   ],
   "source": [
    "# 4.\tWrite a function addrecord() to add record of teacher in file “teacher.dat”\n",
    "# Each record should contain the following data (using list) : Id,Name,Desig,Dept,Sal\n",
    "\n",
    "def addrecord():\n",
    "    file = open(\"teacher.dat\",\"wb+\")\n",
    "    name = input(\"Enter name of the teacher:\")\n",
    "    tid = int(input(\"Enter id of the teacher:\"))\n",
    "    dept = int(input(\"Enter department number of the teacher:\"))\n",
    "    salary = int(input(\"Enter salary of the teacher:\"))\n",
    "    teacher = [name,tid,dept,salary]\n",
    "    import pickle\n",
    "    d = pickle.dump(teacher,file)\n",
    "    file.close()\n",
    "addrecord()"
   ]
  },
  {
   "cell_type": "code",
   "execution_count": 27,
   "id": "1e08271a",
   "metadata": {},
   "outputs": [
    {
     "name": "stdout",
     "output_type": "stream",
     "text": [
      "Number of lines that bgin with capital letter is: 2\n"
     ]
    }
   ],
   "source": [
    "# 5.\tWrite a function in python to count the number of lines in “POEM.txt” begins from Upper case character\n",
    "\n",
    "def bla():\n",
    "    file = open(\"POEM.txt\",\"w+\")\n",
    "    file.write(\"Hello \\nBye \\nnamaste \\nolaa\")\n",
    "    file.seek(0)\n",
    "    s = file.read()\n",
    "    ctr = 0\n",
    "    for i in s:\n",
    "        if i.isupper():\n",
    "            ctr += 1\n",
    "        else:\n",
    "            pass\n",
    "    print(\"Number of lines that bgin with capital letter is:\",ctr)\n",
    "bla()"
   ]
  },
  {
   "cell_type": "code",
   "execution_count": 34,
   "id": "420e10de",
   "metadata": {},
   "outputs": [
    {
     "name": "stdout",
     "output_type": "stream",
     "text": [
      "Enter number of employees data you want to enter:2\n",
      "Enter name of the employee:ssdvsd\n",
      "Enter id of the employee:2\n",
      "Enter name of the employee:vsdvsd\n",
      "Enter id of the employee:2\n"
     ]
    }
   ],
   "source": [
    "def register():\n",
    "    import csv\n",
    "    li = []\n",
    "    n = int(input(\"Enter number of employees data you want to enter:\"))\n",
    "    for i in range(n):\n",
    "        name = input(\"Enter name of the employee:\")\n",
    "        idn = int(input(\"Enter id of the employee:\"))\n",
    "        l = [name,idn]\n",
    "        li.append(l)\n",
    "    file = open(\"Examprac2.csv\",\"w+\",newline=\"\")\n",
    "    write = csv.writer(file)\n",
    "    write.writerow([\"Name\",\"Id\"])\n",
    "    write.writerows(li)\n",
    "    file.close()\n",
    "register()"
   ]
  },
  {
   "cell_type": "code",
   "execution_count": 37,
   "id": "d47be669",
   "metadata": {},
   "outputs": [
    {
     "name": "stdout",
     "output_type": "stream",
     "text": [
      "Enter any words:Hello everyone how are you ///\n"
     ]
    }
   ],
   "source": [
    "# WAP to read characters from keyboard one by one, all lower case characters gets shared inside a file \"lower\" and vice verse:\n",
    "\n",
    "def store(key):\n",
    "    file1 = open(\"lower.txt\",\"w+\")\n",
    "    file2 = open(\"upper.txt\",\"w+\")    \n",
    "    file3 = open(\"other.txt\",\"w+\")  \n",
    "    l,u,o = \"\",\"\",\"\"\n",
    "    for i in key:\n",
    "        if i.isalpha():\n",
    "            if i.islower():\n",
    "                l = l + i\n",
    "            else: \n",
    "                u = u + i\n",
    "        else:\n",
    "            o = o + i\n",
    "    file1.write(l)\n",
    "    file2.write(u)\n",
    "    file3.write(o)\n",
    "ke = input(\"Enter any words:\")\n",
    "store(ke)"
   ]
  },
  {
   "cell_type": "code",
   "execution_count": 4,
   "id": "d3cb45a3",
   "metadata": {},
   "outputs": [
    {
     "name": "stdout",
     "output_type": "stream",
     "text": [
      "Enter number of students:2\n",
      "dfsdf\n",
      "34324\n",
      "fsdfsd\n",
      "343\n",
      "['dfsdf', '34324']\n",
      "['fsdfsd', '343']\n"
     ]
    }
   ],
   "source": [
    "# To take data of n number of students:\n",
    "\n",
    "import csv\n",
    "file = open(\"Hurry.csv\",\"w\",newline=\"\")\n",
    "l = []\n",
    "n = int(input(\"Enter number of students:\"))\n",
    "for i in range(n):\n",
    "    name = input()\n",
    "    roll = int(input())\n",
    "    l.append([name,roll])\n",
    "write = csv.writer(file)\n",
    "write.writerows(l)\n",
    "file.close()\n",
    "\n",
    "file = open(\"Hurry.csv\",\"r\",newline=\"\")\n",
    "s = csv.reader(file)\n",
    "for i in s:\n",
    "    print(i)"
   ]
  },
  {
   "cell_type": "code",
   "execution_count": 21,
   "id": "2e839c8f",
   "metadata": {},
   "outputs": [
    {
     "ename": "UnsupportedOperation",
     "evalue": "can't do nonzero cur-relative seeks",
     "output_type": "error",
     "traceback": [
      "\u001b[1;31m---------------------------------------------------------------------------\u001b[0m",
      "\u001b[1;31mUnsupportedOperation\u001b[0m                      Traceback (most recent call last)",
      "Input \u001b[1;32mIn [21]\u001b[0m, in \u001b[0;36m<cell line: 3>\u001b[1;34m()\u001b[0m\n\u001b[0;32m      1\u001b[0m file \u001b[38;5;241m=\u001b[39m \u001b[38;5;28mopen\u001b[39m(\u001b[38;5;124m\"\u001b[39m\u001b[38;5;124mPractice1.txt\u001b[39m\u001b[38;5;124m\"\u001b[39m,\u001b[38;5;124m\"\u001b[39m\u001b[38;5;124mw+\u001b[39m\u001b[38;5;124m\"\u001b[39m)\n\u001b[0;32m      2\u001b[0m file\u001b[38;5;241m.\u001b[39mwrite(\u001b[38;5;124m\"\u001b[39m\u001b[38;5;124mHello everyone\u001b[39m\u001b[38;5;124m\"\u001b[39m)\n\u001b[1;32m----> 3\u001b[0m \u001b[43mfile\u001b[49m\u001b[38;5;241;43m.\u001b[39;49m\u001b[43mseek\u001b[49m\u001b[43m(\u001b[49m\u001b[38;5;241;43m5\u001b[39;49m\u001b[43m,\u001b[49m\u001b[38;5;241;43m1\u001b[39;49m\u001b[43m)\u001b[49m\n\u001b[0;32m      4\u001b[0m \u001b[38;5;28mprint\u001b[39m(file\u001b[38;5;241m.\u001b[39mread())\n",
      "\u001b[1;31mUnsupportedOperation\u001b[0m: can't do nonzero cur-relative seeks"
     ]
    }
   ],
   "source": [
    "file = open(\"Practice1.txt\",\"w+\")\n",
    "file.write(\"Hello everyone\")\n",
    "file.seek(5,1)\n",
    "print(file.read())"
   ]
  },
  {
   "cell_type": "code",
   "execution_count": 10,
   "id": "d9af9439",
   "metadata": {},
   "outputs": [
    {
     "name": "stdout",
     "output_type": "stream",
     "text": [
      "wello everyone what's up, cs exam tomorrow\n"
     ]
    }
   ],
   "source": [
    "file = open(\"data.txt\",\"w+\")\n",
    "file.write(\"Hello everyone what's up, cs exam tomorrow\")\n",
    "file.seek(0)\n",
    "s = file.read()\n",
    "for i in s:\n",
    "    if i == \"a\":\n",
    "        i = \"@\"\n",
    "    else:\n",
    "        i = i\n",
    "    file.seek(0)\n",
    "    file.write(i)\n",
    "file.seek(0)\n",
    "print(file.read())"
   ]
  },
  {
   "cell_type": "code",
   "execution_count": 32,
   "id": "57890e06",
   "metadata": {},
   "outputs": [
    {
     "name": "stdout",
     "output_type": "stream",
     "text": [
      "Hello everyone what's up, cs exam tomorrow\n",
      "0\n"
     ]
    }
   ],
   "source": [
    "file = open(\"data.txt\",\"w+\")\n",
    "file.write(\"Hello everyone what's up, cs exam tomorrow\")\n",
    "file.seek(0)\n",
    "s = file.readlines()\n",
    "count = 0\n",
    "for i in range(len(s)):\n",
    "    print(s[i])\n",
    "    if s[i] == \"cs\":\n",
    "        count = count + 1\n",
    "    else:\n",
    "        pass\n",
    "print(count)"
   ]
  },
  {
   "cell_type": "code",
   "execution_count": 36,
   "id": "d33e3390",
   "metadata": {},
   "outputs": [
    {
     "name": "stdout",
     "output_type": "stream",
     "text": [
      "2\n"
     ]
    }
   ],
   "source": [
    "file = open(\"data.txt\",\"w+\")\n",
    "file.write(\"Hello everyone what's up, cs exam tomorrow\")\n",
    "file.seek(0)\n",
    "n = 0\n",
    "s = file.read()\n",
    "word = s.split()\n",
    "for i in word:\n",
    "    if i == \"Hello\":\n",
    "        n += 1\n",
    "    elif i == \"cs\":\n",
    "        n += 1\n",
    "    else:\n",
    "        pass\n",
    "print(n)"
   ]
  },
  {
   "cell_type": "code",
   "execution_count": 13,
   "id": "6990522e",
   "metadata": {},
   "outputs": [
    {
     "name": "stdout",
     "output_type": "stream",
     "text": [
      "Enter number of students:1\n",
      "Enter name of the student:sdfsdf\n",
      "Enter roll of the student:1\n",
      "Enter class of the student:2\n"
     ]
    }
   ],
   "source": [
    "import pickle as p\n",
    "file = open(\"data1.dat\",\"wb\")\n",
    "n = int(input(\"Enter number of students:\"))\n",
    "di = {}\n",
    "for i in range(n):\n",
    "    name = input(\"Enter name of the student:\")\n",
    "    roll = int(input(\"Enter roll of the student:\"))\n",
    "    clas = int(input(\"Enter class of the student:\"))\n",
    "    di[name] = (roll,clas)\n",
    "p.dump(di,file)\n",
    "file.close()"
   ]
  },
  {
   "cell_type": "code",
   "execution_count": 14,
   "id": "d33f91da",
   "metadata": {},
   "outputs": [
    {
     "name": "stdout",
     "output_type": "stream",
     "text": [
      "Enter name of the student you want to search:sdfsdf\n",
      "True\n"
     ]
    }
   ],
   "source": [
    "search = input(\"Enter name of the student you want to search:\")\n",
    "f = open(\"data1.dat\",\"rb\")\n",
    "s = p.load(f)\n",
    "flag = None\n",
    "for i in di:\n",
    "    if i == search:\n",
    "        flag = True\n",
    "    else:\n",
    "        flag = False\n",
    "print(flag)\n",
    "    "
   ]
  },
  {
   "cell_type": "code",
   "execution_count": null,
   "id": "b0e7c2b6",
   "metadata": {},
   "outputs": [],
   "source": []
  }
 ],
 "metadata": {
  "kernelspec": {
   "display_name": "Python 3 (ipykernel)",
   "language": "python",
   "name": "python3"
  },
  "language_info": {
   "codemirror_mode": {
    "name": "ipython",
    "version": 3
   },
   "file_extension": ".py",
   "mimetype": "text/x-python",
   "name": "python",
   "nbconvert_exporter": "python",
   "pygments_lexer": "ipython3",
   "version": "3.9.12"
  },
  "vscode": {
   "interpreter": {
    "hash": "bf4fbbcfb44b62809ee9ef976aff62d8f85ac4ea82e40788fda9594addf376e6"
   }
  }
 },
 "nbformat": 4,
 "nbformat_minor": 5
}
